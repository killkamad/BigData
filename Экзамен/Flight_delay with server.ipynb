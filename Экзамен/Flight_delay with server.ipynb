{
 "cells": [
  {
   "cell_type": "code",
   "execution_count": 1,
   "metadata": {
    "scrolled": false
   },
   "outputs": [],
   "source": [
    "import pandas as pd\n",
    "import numpy as np\n",
    "import psycopg2\n",
    "import matplotlib.pyplot as plt\n",
    "import seaborn as sns\n",
    "from sklearn.linear_model import LinearRegression\n",
    "from sklearn import metrics\n",
    "%matplotlib inline\n",
    "from sklearn.model_selection import train_test_split"
   ]
  },
  {
   "cell_type": "code",
   "execution_count": 127,
   "metadata": {},
   "outputs": [],
   "source": [
    "def aws():\n",
    "    try:\n",
    "        connection = psycopg2.connect(user='postgres',\n",
    "                                      password='password',\n",
    "                                      host='almau-students.cmwfjvlei66t.eu-central-1.rds.amazonaws.com',\n",
    "                                      port='5432',\n",
    "                                      database='postgres')\n",
    "        print('connected')\n",
    "    except(Exception, psycopg2.Error) as error:\n",
    "        connection = ''\n",
    "        print(error)\n",
    "    return connection"
   ]
  },
  {
   "cell_type": "code",
   "execution_count": 128,
   "metadata": {},
   "outputs": [
    {
     "name": "stdout",
     "output_type": "stream",
     "text": [
      "connected\n"
     ]
    }
   ],
   "source": [
    "df = pd.read_sql_query('select * from flight_delays_1', aws())\n",
    "# df = pd.read_csv('flight_delays 1.csv', header = 0, sep=',')"
   ]
  },
  {
   "cell_type": "code",
   "execution_count": 129,
   "metadata": {},
   "outputs": [],
   "source": [
    "df = df.rename({'month': 'Month', 'dayofmonth': 'DayofMonth', 'dayofweek': 'DayOfWeek', 'deptime': 'DepTime', 'uniquecarrier': 'UniqueCarrier', 'origin': 'Origin',\n",
    "                       'dest': 'Dest', 'distance': 'Distance', 'dep_delayed_15min': 'dep_delayed_15min'}, axis=1)"
   ]
  },
  {
   "cell_type": "code",
   "execution_count": 130,
   "metadata": {},
   "outputs": [
    {
     "data": {
      "text/html": [
       "<div>\n",
       "<style scoped>\n",
       "    .dataframe tbody tr th:only-of-type {\n",
       "        vertical-align: middle;\n",
       "    }\n",
       "\n",
       "    .dataframe tbody tr th {\n",
       "        vertical-align: top;\n",
       "    }\n",
       "\n",
       "    .dataframe thead th {\n",
       "        text-align: right;\n",
       "    }\n",
       "</style>\n",
       "<table border=\"1\" class=\"dataframe\">\n",
       "  <thead>\n",
       "    <tr style=\"text-align: right;\">\n",
       "      <th></th>\n",
       "      <th>Month</th>\n",
       "      <th>DayofMonth</th>\n",
       "      <th>DayOfWeek</th>\n",
       "      <th>DepTime</th>\n",
       "      <th>UniqueCarrier</th>\n",
       "      <th>Origin</th>\n",
       "      <th>Dest</th>\n",
       "      <th>Distance</th>\n",
       "      <th>dep_delayed_15min</th>\n",
       "    </tr>\n",
       "  </thead>\n",
       "  <tbody>\n",
       "    <tr>\n",
       "      <td>0</td>\n",
       "      <td>c-8</td>\n",
       "      <td>c-21</td>\n",
       "      <td>c-7</td>\n",
       "      <td>1934</td>\n",
       "      <td>AA</td>\n",
       "      <td>ATL</td>\n",
       "      <td>DFW</td>\n",
       "      <td>732</td>\n",
       "      <td>N</td>\n",
       "    </tr>\n",
       "    <tr>\n",
       "      <td>1</td>\n",
       "      <td>c-4</td>\n",
       "      <td>c-20</td>\n",
       "      <td>c-3</td>\n",
       "      <td>1548</td>\n",
       "      <td>US</td>\n",
       "      <td>PIT</td>\n",
       "      <td>MCO</td>\n",
       "      <td>834</td>\n",
       "      <td>N</td>\n",
       "    </tr>\n",
       "    <tr>\n",
       "      <td>2</td>\n",
       "      <td>c-9</td>\n",
       "      <td>c-2</td>\n",
       "      <td>c-5</td>\n",
       "      <td>1422</td>\n",
       "      <td>XE</td>\n",
       "      <td>RDU</td>\n",
       "      <td>CLE</td>\n",
       "      <td>416</td>\n",
       "      <td>N</td>\n",
       "    </tr>\n",
       "    <tr>\n",
       "      <td>3</td>\n",
       "      <td>c-11</td>\n",
       "      <td>c-25</td>\n",
       "      <td>c-6</td>\n",
       "      <td>1015</td>\n",
       "      <td>OO</td>\n",
       "      <td>DEN</td>\n",
       "      <td>MEM</td>\n",
       "      <td>872</td>\n",
       "      <td>N</td>\n",
       "    </tr>\n",
       "    <tr>\n",
       "      <td>4</td>\n",
       "      <td>c-10</td>\n",
       "      <td>c-7</td>\n",
       "      <td>c-6</td>\n",
       "      <td>1828</td>\n",
       "      <td>WN</td>\n",
       "      <td>MDW</td>\n",
       "      <td>OMA</td>\n",
       "      <td>423</td>\n",
       "      <td>Y</td>\n",
       "    </tr>\n",
       "    <tr>\n",
       "      <td>...</td>\n",
       "      <td>...</td>\n",
       "      <td>...</td>\n",
       "      <td>...</td>\n",
       "      <td>...</td>\n",
       "      <td>...</td>\n",
       "      <td>...</td>\n",
       "      <td>...</td>\n",
       "      <td>...</td>\n",
       "      <td>...</td>\n",
       "    </tr>\n",
       "    <tr>\n",
       "      <td>99995</td>\n",
       "      <td>c-5</td>\n",
       "      <td>c-4</td>\n",
       "      <td>c-3</td>\n",
       "      <td>1618</td>\n",
       "      <td>OO</td>\n",
       "      <td>SFO</td>\n",
       "      <td>RDD</td>\n",
       "      <td>199</td>\n",
       "      <td>N</td>\n",
       "    </tr>\n",
       "    <tr>\n",
       "      <td>99996</td>\n",
       "      <td>c-1</td>\n",
       "      <td>c-18</td>\n",
       "      <td>c-3</td>\n",
       "      <td>804</td>\n",
       "      <td>CO</td>\n",
       "      <td>EWR</td>\n",
       "      <td>DAB</td>\n",
       "      <td>884</td>\n",
       "      <td>N</td>\n",
       "    </tr>\n",
       "    <tr>\n",
       "      <td>99997</td>\n",
       "      <td>c-1</td>\n",
       "      <td>c-24</td>\n",
       "      <td>c-2</td>\n",
       "      <td>1901</td>\n",
       "      <td>NW</td>\n",
       "      <td>DTW</td>\n",
       "      <td>IAH</td>\n",
       "      <td>1076</td>\n",
       "      <td>N</td>\n",
       "    </tr>\n",
       "    <tr>\n",
       "      <td>99998</td>\n",
       "      <td>c-4</td>\n",
       "      <td>c-27</td>\n",
       "      <td>c-4</td>\n",
       "      <td>1515</td>\n",
       "      <td>MQ</td>\n",
       "      <td>DFW</td>\n",
       "      <td>GGG</td>\n",
       "      <td>140</td>\n",
       "      <td>N</td>\n",
       "    </tr>\n",
       "    <tr>\n",
       "      <td>99999</td>\n",
       "      <td>c-11</td>\n",
       "      <td>c-17</td>\n",
       "      <td>c-4</td>\n",
       "      <td>1800</td>\n",
       "      <td>WN</td>\n",
       "      <td>SEA</td>\n",
       "      <td>SMF</td>\n",
       "      <td>605</td>\n",
       "      <td>N</td>\n",
       "    </tr>\n",
       "  </tbody>\n",
       "</table>\n",
       "<p>100000 rows × 9 columns</p>\n",
       "</div>"
      ],
      "text/plain": [
       "      Month DayofMonth DayOfWeek  DepTime UniqueCarrier Origin Dest  Distance  \\\n",
       "0       c-8       c-21       c-7     1934            AA    ATL  DFW       732   \n",
       "1       c-4       c-20       c-3     1548            US    PIT  MCO       834   \n",
       "2       c-9        c-2       c-5     1422            XE    RDU  CLE       416   \n",
       "3      c-11       c-25       c-6     1015            OO    DEN  MEM       872   \n",
       "4      c-10        c-7       c-6     1828            WN    MDW  OMA       423   \n",
       "...     ...        ...       ...      ...           ...    ...  ...       ...   \n",
       "99995   c-5        c-4       c-3     1618            OO    SFO  RDD       199   \n",
       "99996   c-1       c-18       c-3      804            CO    EWR  DAB       884   \n",
       "99997   c-1       c-24       c-2     1901            NW    DTW  IAH      1076   \n",
       "99998   c-4       c-27       c-4     1515            MQ    DFW  GGG       140   \n",
       "99999  c-11       c-17       c-4     1800            WN    SEA  SMF       605   \n",
       "\n",
       "      dep_delayed_15min  \n",
       "0                     N  \n",
       "1                     N  \n",
       "2                     N  \n",
       "3                     N  \n",
       "4                     Y  \n",
       "...                 ...  \n",
       "99995                 N  \n",
       "99996                 N  \n",
       "99997                 N  \n",
       "99998                 N  \n",
       "99999                 N  \n",
       "\n",
       "[100000 rows x 9 columns]"
      ]
     },
     "execution_count": 130,
     "metadata": {},
     "output_type": "execute_result"
    }
   ],
   "source": [
    "df"
   ]
  },
  {
   "cell_type": "code",
   "execution_count": 131,
   "metadata": {},
   "outputs": [],
   "source": [
    "def do_norm_table():\n",
    "    df['Month']= df['Month'].apply(lambda x: x.split('-')[1])\n",
    "    df['Month'] = df['Month'].apply(int)\n",
    "    df['DayofMonth'] = df['DayofMonth'].apply(lambda x: x.split('-')[1])\n",
    "    df['DayofMonth'] = df['DayofMonth'].apply(int)\n",
    "    df['DayOfWeek'] = df['DayOfWeek'].apply(lambda x: x.split('-')[1])\n",
    "    df['DayOfWeek'] = df['DayOfWeek'].apply(int)\n",
    "do_norm_table()\n",
    "def no_yes(val):\n",
    "    if 'Y' in val:\n",
    "        return 1\n",
    "    else:\n",
    "        return 0\n",
    "df['dep_delayed_15min'] = df['dep_delayed_15min'].apply(lambda x: no_yes(x))\n",
    "\n",
    "df_delay = df[df.dep_delayed_15min==1]\n",
    "df_nodelay = df[df['dep_delayed_15min']==0]\n",
    "delays = len(df_delay)\n",
    "nodelays = len(df_nodelay)\n",
    "airlines = sorted(df.UniqueCarrier.unique())\n",
    "origins= sorted(df.Origin.unique(), reverse=True)\n",
    "destinations= sorted(df.Dest.unique(), reverse=True)\n",
    "numAirlines= len(airlines)\n",
    "numOrigins= len(origins)\n",
    "numDestinations = len(destinations)\n",
    "minDist = df.Distance.min()\n",
    "maxDist = df.Distance.max()"
   ]
  },
  {
   "cell_type": "code",
   "execution_count": 132,
   "metadata": {
    "scrolled": false
   },
   "outputs": [
    {
     "name": "stdout",
     "output_type": "stream",
     "text": [
      "Количество задержек -  19044\n",
      "Количество без задержек -  80956\n",
      "Список Кодов аэропорта ИАТА -  ['AA', 'AQ', 'AS', 'B6', 'CO', 'DH', 'DL', 'EV', 'F9', 'FL', 'HA', 'HP', 'MQ', 'NW', 'OH', 'OO', 'TZ', 'UA', 'US', 'WN', 'XE', 'YV']\n",
      "Список эропортов откуда был вылет -  ['YUM', 'YAK', 'XNA', 'WYS', 'WRG', 'VPS', 'VLD', 'VIS', 'VCT', 'TYS', 'TYR', 'TXK', 'TWF', 'TVC', 'TUS', 'TUP', 'TUL', 'TRI', 'TPA', 'TOL', 'TLH', 'TEX', 'SYR', 'SWF', 'SUN', 'STX', 'STT', 'STL', 'SRQ', 'SPS', 'SPI', 'SNA', 'SMX', 'SMF', 'SLC', 'SJU', 'SJT', 'SJC', 'SIT', 'SHV', 'SGU', 'SGF', 'SFO', 'SEA', 'SDF', 'SCE', 'SCC', 'SBP', 'SBN', 'SBA', 'SAV', 'SAT', 'SAN', 'RSW', 'RST', 'ROC', 'ROA', 'RNO', 'RIC', 'RFD', 'RDU', 'RDM', 'RDD', 'RAP', 'PWM', 'PVD', 'PSP', 'PSG', 'PSE', 'PSC', 'PNS', 'PIT', 'PIH', 'PIE', 'PIA', 'PHX', 'PHL', 'PHF', 'PFN', 'PDX', 'PBI', 'OXR', 'OTZ', 'ORF', 'ORD', 'ONT', 'OME', 'OMA', 'OKC', 'OGG', 'OAK', 'OAJ', 'MYR', 'MTJ', 'MSY', 'MSP', 'MSO', 'MSN', 'MRY', 'MQT', 'MOT', 'MOD', 'MOB', 'MLU', 'MLI', 'MLB', 'MKE', 'MIA', 'MHT', 'MGM', 'MFR', 'MFE', 'MEM', 'MEI', 'MDW', 'MDT', 'MCO', 'MCN', 'MCI', 'MBS', 'MAF', 'LYH', 'LWS', 'LWB', 'LSE', 'LRD', 'LNK', 'LIT', 'LIH', 'LGB', 'LGA', 'LFT', 'LEX', 'LCH', 'LBB', 'LAX', 'LAW', 'LAS', 'LAN', 'KTN', 'KOA', 'JNU', 'JFK', 'JAX', 'JAN', 'JAC', 'IYK', 'ITO', 'ISP', 'ISO', 'IPL', 'IND', 'ILM', 'ILG', 'IDA', 'ICT', 'IAH', 'IAD', 'HVN', 'HTS', 'HSV', 'HRL', 'HPN', 'HOU', 'HNL', 'HLN', 'HKY', 'HDN', 'GUC', 'GTR', 'GTF', 'GST', 'GSP', 'GSO', 'GRR', 'GRK', 'GRB', 'GPT', 'GNV', 'GJT', 'GGG', 'GFK', 'GEG', 'FWA', 'FSM', 'FSD', 'FNT', 'FLO', 'FLL', 'FLG', 'FCA', 'FAY', 'FAT', 'FAR', 'FAI', 'EYW', 'EWR', 'EVV', 'EUG', 'ERI', 'ELP', 'EKO', 'EGE', 'DTW', 'DSM', 'DRO', 'DLH', 'DLG', 'DHN', 'DFW', 'DEN', 'DCA', 'DBQ', 'DAY', 'DAL', 'DAB', 'CWA', 'CVG', 'CSG', 'CRW', 'CRP', 'CPR', 'COS', 'COD', 'CMI', 'CMH', 'CLT', 'CLL', 'CLE', 'CLD', 'CID', 'CIC', 'CHS', 'CHO', 'CHA', 'CEC', 'CDV', 'CDC', 'CAK', 'CAE', 'BZN', 'BWI', 'BUR', 'BUF', 'BTV', 'BTR', 'BTM', 'BRW', 'BRO', 'BQN', 'BQK', 'BPT', 'BOS', 'BOI', 'BNA', 'BMI', 'BLI', 'BIS', 'BIL', 'BHM', 'BGR', 'BGM', 'BFL', 'BET', 'BDL', 'AZO', 'AVP', 'AVL', 'AUS', 'ATW', 'ATL', 'ASE', 'APF', 'ANC', 'AMA', 'ALB', 'AKN', 'AGS', 'AEX', 'ADQ', 'ADK', 'ACY', 'ACV', 'ACT', 'ACK', 'ABY', 'ABQ', 'ABI', 'ABE']\n",
      "Количество Авиакомпаний -  22\n",
      "Количество аэропортов откуда был вылет -  289\n",
      "Количество аэропортов куда был вылет -  289\n",
      "Минимальная дистранция в км -  30\n",
      "Максимальная дистранция в км -  4962\n"
     ]
    }
   ],
   "source": [
    "print('Количество задержек - ',delays)\n",
    "print('Количество без задержек - ',nodelays)\n",
    "print('Список Кодов аэропорта ИАТА - ',airlines)\n",
    "print('Список эропортов откуда был вылет - ',origins)\n",
    "# print('Место назначения - ',destinations) # ПОВТОРЯЕТ origins\n",
    "print('Количество Авиакомпаний - ',numAirlines)\n",
    "print('Количество аэропортов откуда был вылет - ',numOrigins)\n",
    "print('Количество аэропортов куда был вылет - ',numDestinations)\n",
    "print('Минимальная дистранция в км - ',minDist)\n",
    "print('Максимальная дистранция в км - ',maxDist)"
   ]
  },
  {
   "cell_type": "code",
   "execution_count": 133,
   "metadata": {
    "scrolled": false
   },
   "outputs": [
    {
     "data": {
      "text/html": [
       "<div>\n",
       "<style scoped>\n",
       "    .dataframe tbody tr th:only-of-type {\n",
       "        vertical-align: middle;\n",
       "    }\n",
       "\n",
       "    .dataframe tbody tr th {\n",
       "        vertical-align: top;\n",
       "    }\n",
       "\n",
       "    .dataframe thead th {\n",
       "        text-align: right;\n",
       "    }\n",
       "</style>\n",
       "<table border=\"1\" class=\"dataframe\">\n",
       "  <thead>\n",
       "    <tr style=\"text-align: right;\">\n",
       "      <th></th>\n",
       "      <th>Month</th>\n",
       "      <th>DayofMonth</th>\n",
       "      <th>DayOfWeek</th>\n",
       "      <th>DepTime</th>\n",
       "      <th>UniqueCarrier</th>\n",
       "      <th>Origin</th>\n",
       "      <th>Dest</th>\n",
       "      <th>Distance</th>\n",
       "      <th>dep_delayed_15min</th>\n",
       "    </tr>\n",
       "  </thead>\n",
       "  <tbody>\n",
       "    <tr>\n",
       "      <td>0</td>\n",
       "      <td>8</td>\n",
       "      <td>21</td>\n",
       "      <td>7</td>\n",
       "      <td>1934</td>\n",
       "      <td>AA</td>\n",
       "      <td>ATL</td>\n",
       "      <td>DFW</td>\n",
       "      <td>732</td>\n",
       "      <td>0</td>\n",
       "    </tr>\n",
       "    <tr>\n",
       "      <td>1</td>\n",
       "      <td>4</td>\n",
       "      <td>20</td>\n",
       "      <td>3</td>\n",
       "      <td>1548</td>\n",
       "      <td>US</td>\n",
       "      <td>PIT</td>\n",
       "      <td>MCO</td>\n",
       "      <td>834</td>\n",
       "      <td>0</td>\n",
       "    </tr>\n",
       "    <tr>\n",
       "      <td>2</td>\n",
       "      <td>9</td>\n",
       "      <td>2</td>\n",
       "      <td>5</td>\n",
       "      <td>1422</td>\n",
       "      <td>XE</td>\n",
       "      <td>RDU</td>\n",
       "      <td>CLE</td>\n",
       "      <td>416</td>\n",
       "      <td>0</td>\n",
       "    </tr>\n",
       "    <tr>\n",
       "      <td>3</td>\n",
       "      <td>11</td>\n",
       "      <td>25</td>\n",
       "      <td>6</td>\n",
       "      <td>1015</td>\n",
       "      <td>OO</td>\n",
       "      <td>DEN</td>\n",
       "      <td>MEM</td>\n",
       "      <td>872</td>\n",
       "      <td>0</td>\n",
       "    </tr>\n",
       "    <tr>\n",
       "      <td>4</td>\n",
       "      <td>10</td>\n",
       "      <td>7</td>\n",
       "      <td>6</td>\n",
       "      <td>1828</td>\n",
       "      <td>WN</td>\n",
       "      <td>MDW</td>\n",
       "      <td>OMA</td>\n",
       "      <td>423</td>\n",
       "      <td>1</td>\n",
       "    </tr>\n",
       "    <tr>\n",
       "      <td>...</td>\n",
       "      <td>...</td>\n",
       "      <td>...</td>\n",
       "      <td>...</td>\n",
       "      <td>...</td>\n",
       "      <td>...</td>\n",
       "      <td>...</td>\n",
       "      <td>...</td>\n",
       "      <td>...</td>\n",
       "      <td>...</td>\n",
       "    </tr>\n",
       "    <tr>\n",
       "      <td>99995</td>\n",
       "      <td>5</td>\n",
       "      <td>4</td>\n",
       "      <td>3</td>\n",
       "      <td>1618</td>\n",
       "      <td>OO</td>\n",
       "      <td>SFO</td>\n",
       "      <td>RDD</td>\n",
       "      <td>199</td>\n",
       "      <td>0</td>\n",
       "    </tr>\n",
       "    <tr>\n",
       "      <td>99996</td>\n",
       "      <td>1</td>\n",
       "      <td>18</td>\n",
       "      <td>3</td>\n",
       "      <td>804</td>\n",
       "      <td>CO</td>\n",
       "      <td>EWR</td>\n",
       "      <td>DAB</td>\n",
       "      <td>884</td>\n",
       "      <td>0</td>\n",
       "    </tr>\n",
       "    <tr>\n",
       "      <td>99997</td>\n",
       "      <td>1</td>\n",
       "      <td>24</td>\n",
       "      <td>2</td>\n",
       "      <td>1901</td>\n",
       "      <td>NW</td>\n",
       "      <td>DTW</td>\n",
       "      <td>IAH</td>\n",
       "      <td>1076</td>\n",
       "      <td>0</td>\n",
       "    </tr>\n",
       "    <tr>\n",
       "      <td>99998</td>\n",
       "      <td>4</td>\n",
       "      <td>27</td>\n",
       "      <td>4</td>\n",
       "      <td>1515</td>\n",
       "      <td>MQ</td>\n",
       "      <td>DFW</td>\n",
       "      <td>GGG</td>\n",
       "      <td>140</td>\n",
       "      <td>0</td>\n",
       "    </tr>\n",
       "    <tr>\n",
       "      <td>99999</td>\n",
       "      <td>11</td>\n",
       "      <td>17</td>\n",
       "      <td>4</td>\n",
       "      <td>1800</td>\n",
       "      <td>WN</td>\n",
       "      <td>SEA</td>\n",
       "      <td>SMF</td>\n",
       "      <td>605</td>\n",
       "      <td>0</td>\n",
       "    </tr>\n",
       "  </tbody>\n",
       "</table>\n",
       "<p>100000 rows × 9 columns</p>\n",
       "</div>"
      ],
      "text/plain": [
       "       Month  DayofMonth  DayOfWeek  DepTime UniqueCarrier Origin Dest  \\\n",
       "0          8          21          7     1934            AA    ATL  DFW   \n",
       "1          4          20          3     1548            US    PIT  MCO   \n",
       "2          9           2          5     1422            XE    RDU  CLE   \n",
       "3         11          25          6     1015            OO    DEN  MEM   \n",
       "4         10           7          6     1828            WN    MDW  OMA   \n",
       "...      ...         ...        ...      ...           ...    ...  ...   \n",
       "99995      5           4          3     1618            OO    SFO  RDD   \n",
       "99996      1          18          3      804            CO    EWR  DAB   \n",
       "99997      1          24          2     1901            NW    DTW  IAH   \n",
       "99998      4          27          4     1515            MQ    DFW  GGG   \n",
       "99999     11          17          4     1800            WN    SEA  SMF   \n",
       "\n",
       "       Distance  dep_delayed_15min  \n",
       "0           732                  0  \n",
       "1           834                  0  \n",
       "2           416                  0  \n",
       "3           872                  0  \n",
       "4           423                  1  \n",
       "...         ...                ...  \n",
       "99995       199                  0  \n",
       "99996       884                  0  \n",
       "99997      1076                  0  \n",
       "99998       140                  0  \n",
       "99999       605                  0  \n",
       "\n",
       "[100000 rows x 9 columns]"
      ]
     },
     "execution_count": 133,
     "metadata": {},
     "output_type": "execute_result"
    }
   ],
   "source": [
    "df"
   ]
  },
  {
   "cell_type": "code",
   "execution_count": 134,
   "metadata": {},
   "outputs": [
    {
     "name": "stdout",
     "output_type": "stream",
     "text": [
      "<class 'pandas.core.frame.DataFrame'>\n",
      "RangeIndex: 100000 entries, 0 to 99999\n",
      "Data columns (total 9 columns):\n",
      "Month                100000 non-null int64\n",
      "DayofMonth           100000 non-null int64\n",
      "DayOfWeek            100000 non-null int64\n",
      "DepTime              100000 non-null int64\n",
      "UniqueCarrier        100000 non-null object\n",
      "Origin               100000 non-null object\n",
      "Dest                 100000 non-null object\n",
      "Distance             100000 non-null int64\n",
      "dep_delayed_15min    100000 non-null int64\n",
      "dtypes: int64(6), object(3)\n",
      "memory usage: 6.9+ MB\n"
     ]
    }
   ],
   "source": [
    "df.info()"
   ]
  },
  {
   "cell_type": "code",
   "execution_count": 135,
   "metadata": {},
   "outputs": [
    {
     "data": {
      "text/plain": [
       "Text(0.5, 1.0, 'Авиакомпании')"
      ]
     },
     "execution_count": 135,
     "metadata": {},
     "output_type": "execute_result"
    },
    {
     "data": {
      "image/png": "[encoded data removed]",
      "text/plain": [
       "<Figure size 720x432 with 1 Axes>"
      ]
     },
     "metadata": {
      "needs_background": "light"
     },
     "output_type": "display_data"
    }
   ],
   "source": [
    "sns.countplot(x='UniqueCarrier', data=df)\n",
    "ax = plt.gca()\n",
    "ax.set_title(\"Авиакомпании\",fontsize=20)"
   ]
  },
  {
   "cell_type": "code",
   "execution_count": 136,
   "metadata": {},
   "outputs": [
    {
     "data": {
      "image/png": "[encoded data removed]",
      "text/plain": [
       "<Figure size 720x432 with 1 Axes>"
      ]
     },
     "metadata": {
      "needs_background": "light"
     },
     "output_type": "display_data"
    }
   ],
   "source": [
    "def dict_sort(my_dict):\n",
    "    keys = []\n",
    "    values = []\n",
    "    my_dict = sorted(my_dict.items(), key=lambda x:x[1], reverse=True)\n",
    "    for k, v in my_dict:\n",
    "        keys.append(k)\n",
    "        values.append(v)\n",
    "    return (keys,values)\n",
    "count = pd.value_counts(df['UniqueCarrier'].values, sort=True)\n",
    "keys, values = dict_sort(dict(count))    \n",
    "TOP = len(keys)\n",
    "plt.title('больше всего наблюдений', fontsize=12)\n",
    "plt.bar(np.arange(TOP), values, )\n",
    "plt.xticks(np.arange(TOP), keys, rotation=0, fontsize=10)\n",
    "plt.yticks(fontsize=12)\n",
    "plt.ylabel('Количество наблюдений', fontsize=12)\n",
    "plt.xlabel(\"Авиакомпании\",fontsize=20)\n",
    "plt.show()"
   ]
  },
  {
   "cell_type": "code",
   "execution_count": 167,
   "metadata": {},
   "outputs": [
    {
     "data": {
      "text/plain": [
       "Text(0.5, 1.0, 'Дни недели')"
      ]
     },
     "execution_count": 167,
     "metadata": {},
     "output_type": "execute_result"
    },
    {
     "data": {
      "image/png": "[encoded data removed]",
      "text/plain": [
       "<Figure size 720x432 with 1 Axes>"
      ]
     },
     "metadata": {
      "needs_background": "light"
     },
     "output_type": "display_data"
    }
   ],
   "source": [
    "sns.countplot(x=\"DayOfWeek\",data=df)\n",
    "ax = plt.gca()\n",
    "ax.set_title(\"Дни недели\",fontsize=20)"
   ]
  },
  {
   "cell_type": "code",
   "execution_count": 138,
   "metadata": {
    "scrolled": false
   },
   "outputs": [
    {
     "name": "stdout",
     "output_type": "stream",
     "text": [
      "Процентаж задержания рейсов: 0 - без задержек, 1 - задержали\n",
      "0    81.0\n",
      "1    19.0\n",
      "Name: dep_delayed_15min, dtype: float64\n"
     ]
    },
    {
     "data": {
      "image/png": "[encoded data removed]",
      "text/plain": [
       "<Figure size 720x432 with 1 Axes>"
      ]
     },
     "metadata": {
      "needs_background": "light"
     },
     "output_type": "display_data"
    }
   ],
   "source": [
    "sns.countplot(x=\"dep_delayed_15min\",data=df)\n",
    "procentage = round(df['dep_delayed_15min'].value_counts() * 100 / len(df),1)\n",
    "print('Процентаж задержания рейсов: 0 - без задержек, 1 - задержали')\n",
    "print(procentage)"
   ]
  },
  {
   "cell_type": "code",
   "execution_count": 139,
   "metadata": {},
   "outputs": [
    {
     "data": {
      "text/plain": [
       "<matplotlib.legend.Legend at 0x18408227c08>"
      ]
     },
     "execution_count": 139,
     "metadata": {},
     "output_type": "execute_result"
    },
    {
     "data": {
      "image/png": "[encoded data removed]",
      "text/plain": [
       "<Figure size 720x432 with 1 Axes>"
      ]
     },
     "metadata": {
      "needs_background": "light"
     },
     "output_type": "display_data"
    }
   ],
   "source": [
    "Ycol = [\"red\"] #Цвет задержали\n",
    "Ncol = [\"black\"] #Цвет не задержали\n",
    "plt.rcParams['figure.figsize'] = (10,6) #Размер графиков\n",
    "\n",
    "plt.hist(df_delay.Month,bins=12,align=\"mid\", color=Ycol,histtype=\"step\",label=\"delay\",density=True)\n",
    "plt.hist(df_nodelay.Month,bins=12,align=\"mid\", color=Ncol,histtype=\"step\",label=\"no delay\",density=True)\n",
    "plt.xlabel(\"Month\")\n",
    "plt.xlim([1,12])\n",
    "plt.legend(prop={'size': 10},loc=\"upper left\")"
   ]
  },
  {
   "cell_type": "code",
   "execution_count": 140,
   "metadata": {},
   "outputs": [
    {
     "data": {
      "text/plain": [
       "<matplotlib.legend.Legend at 0x184081dcc48>"
      ]
     },
     "execution_count": 140,
     "metadata": {},
     "output_type": "execute_result"
    },
    {
     "data": {
      "image/png": "[encoded data removed]",
      "text/plain": [
       "<Figure size 720x432 with 1 Axes>"
      ]
     },
     "metadata": {
      "needs_background": "light"
     },
     "output_type": "display_data"
    }
   ],
   "source": [
    "plt.hist(df_delay.DayofMonth,bins=31,range=[0.5,31.5],align=\"mid\",\n",
    "               color=Ycol,histtype=\"step\",label=\"delay\",density=True)\n",
    "plt.hist(df_nodelay.DayofMonth,bins=31,range=[0.4,31.4],align=\"mid\",\n",
    "               color=Ncol,histtype=\"step\",label=\"no delay\",density=True)\n",
    "plt.xlabel(\"Day of Month\")\n",
    "plt.xlim(0.5,31.5)\n",
    "plt.ylim(0.0,0.05)\n",
    "plt.legend(prop={'size': 10},loc=\"upper right\")"
   ]
  },
  {
   "cell_type": "code",
   "execution_count": 141,
   "metadata": {
    "scrolled": false
   },
   "outputs": [
    {
     "data": {
      "text/plain": [
       "<matplotlib.legend.Legend at 0x18408199f88>"
      ]
     },
     "execution_count": 141,
     "metadata": {},
     "output_type": "execute_result"
    },
    {
     "data": {
      "image/png": "[encoded data removed]",
      "text/plain": [
       "<Figure size 720x432 with 1 Axes>"
      ]
     },
     "metadata": {
      "needs_background": "light"
     },
     "output_type": "display_data"
    }
   ],
   "source": [
    "plt.hist(df_delay.DayOfWeek,bins=7,range=[0.5,7.5],align=\"mid\",\n",
    "               color=Ycol,histtype=\"step\",label=\"delay\",density=True)\n",
    "plt.hist(df_nodelay.DayOfWeek,bins=7,range=[0.4,7.4],align=\"mid\",\n",
    "               color=Ncol,histtype=\"step\",label=\"no delay\",density=True)\n",
    "plt.xlabel(\"Day of Week\")\n",
    "plt.xlim(0.5,7.6)\n",
    "plt.ylim(0.0,0.25)\n",
    "plt.legend(prop={'size': 10},loc=\"upper right\")"
   ]
  },
  {
   "cell_type": "code",
   "execution_count": 142,
   "metadata": {},
   "outputs": [
    {
     "data": {
      "text/plain": [
       "<matplotlib.legend.Legend at 0x18408151508>"
      ]
     },
     "execution_count": 142,
     "metadata": {},
     "output_type": "execute_result"
    },
    {
     "data": {
      "image/png": "[encoded data removed]",
      "text/plain": [
       "<Figure size 720x432 with 1 Axes>"
      ]
     },
     "metadata": {
      "needs_background": "light"
     },
     "output_type": "display_data"
    }
   ],
   "source": [
    "plt.hist(df_delay.DepTime,bins=24,range=[0,2400],\n",
    "               color=Ycol,histtype=\"step\",label=\"delay\",density=True)\n",
    "plt.hist(df_nodelay.DepTime,bins=24,range=[0,2400],\n",
    "               color=Ncol,histtype=\"step\",label=\"no delay\",density=True)\n",
    "plt.xlabel(\"Departure Time\")\n",
    "plt.xlim(0.0,2400.0)\n",
    "plt.ylim(0.0,0.0012)\n",
    "plt.legend(prop={'size': 10},loc=\"upper right\")"
   ]
  },
  {
   "cell_type": "code",
   "execution_count": 143,
   "metadata": {
    "scrolled": false
   },
   "outputs": [
    {
     "data": {
      "text/plain": [
       "<matplotlib.legend.Legend at 0x18408113fc8>"
      ]
     },
     "execution_count": 143,
     "metadata": {},
     "output_type": "execute_result"
    },
    {
     "data": {
      "image/png": "[encoded data removed]",
      "text/plain": [
       "<Figure size 720x432 with 1 Axes>"
      ]
     },
     "metadata": {
      "needs_background": "light"
     },
     "output_type": "display_data"
    }
   ],
   "source": [
    "plt.hist(df_delay.Distance,bins=50,range=[0,4000],\n",
    "               color=Ycol,histtype=\"step\",label=\"delay\",density=True)\n",
    "plt.hist(df_nodelay.Distance,bins=50,range=[0,4000],\n",
    "               color=Ncol,histtype=\"step\",label=\"no delay\",density=True)\n",
    "plt.xlabel(\"Distance\")\n",
    "plt.ylim(0.0,0.0014)\n",
    "plt.legend(prop={'size': 10},loc=\"upper right\")"
   ]
  },
  {
   "cell_type": "code",
   "execution_count": 144,
   "metadata": {},
   "outputs": [],
   "source": [
    "# bins      = np.arange(len(airlines))\n",
    "# heights   = df.groupby([\"UniqueCarrier\",\"dep_delayed_15min\"]).size()\n",
    "# mulind    = pd.MultiIndex.from_product([airlines, [False, True]])\n",
    "# heights   = heights.reindex(mulind).replace(np.nan, 0)\n",
    "# heights1  = [heights[carrier,True] for carrier in airlines]\n",
    "# heights1  = [float(height)/sum(heights1) for height in heights1]\n",
    "# heights2  = [heights[carrier,False] for carrier in airlines]\n",
    "# heights2  = [float(height)/sum(heights2) for height in heights2]\n",
    "# plt.bar(bins,heights1,align=\"center\",edgecolor=Ycol,color=[\"none\"],label=\"delay\")\n",
    "# plt.bar(bins-0.05,heights2,align=\"center\",edgecolor=Ncol,color=[\"none\"],label=\"no delay\")\n",
    "# plt.xlabel(\"Авиакомпании\",fontsize=13)\n",
    "# plt.xticks(bins)\n",
    "# plt.xlim([-0.5,21.5])\n",
    "# plt.legend(prop={'size': 10},loc=\"upper left\")"
   ]
  },
  {
   "cell_type": "code",
   "execution_count": 145,
   "metadata": {},
   "outputs": [
    {
     "name": "stdout",
     "output_type": "stream",
     "text": [
      "               Month     DayofMonth     DayOfWeek        DepTime  \\\n",
      "count  100000.000000  100000.000000  100000.00000  100000.000000   \n",
      "mean        6.537640      15.703850       3.95183    1341.523880   \n",
      "std         3.413447       8.793931       1.99164     476.378445   \n",
      "min         1.000000       1.000000       1.00000       1.000000   \n",
      "25%         4.000000       8.000000       2.00000     931.000000   \n",
      "50%         7.000000      16.000000       4.00000    1330.000000   \n",
      "75%         9.000000      23.000000       6.00000    1733.000000   \n",
      "max        12.000000      31.000000       7.00000    2534.000000   \n",
      "\n",
      "           Distance  dep_delayed_15min  UniqueCarrier_AA  UniqueCarrier_AQ  \\\n",
      "count  100000.00000       100000.00000      100000.00000     100000.000000   \n",
      "mean      729.39716            0.19044           0.09418          0.002340   \n",
      "std       574.61686            0.39265           0.29208          0.048317   \n",
      "min        30.00000            0.00000           0.00000          0.000000   \n",
      "25%       317.00000            0.00000           0.00000          0.000000   \n",
      "50%       575.00000            0.00000           0.00000          0.000000   \n",
      "75%       957.00000            0.00000           0.00000          0.000000   \n",
      "max      4962.00000            1.00000           1.00000          1.000000   \n",
      "\n",
      "       UniqueCarrier_AS  UniqueCarrier_B6  ...       Dest_TYS       Dest_VCT  \\\n",
      "count     100000.000000     100000.000000  ...  100000.000000  100000.000000   \n",
      "mean           0.022220          0.018380  ...       0.001900       0.000010   \n",
      "std            0.147399          0.134322  ...       0.043548       0.003162   \n",
      "min            0.000000          0.000000  ...       0.000000       0.000000   \n",
      "25%            0.000000          0.000000  ...       0.000000       0.000000   \n",
      "50%            0.000000          0.000000  ...       0.000000       0.000000   \n",
      "75%            0.000000          0.000000  ...       0.000000       0.000000   \n",
      "max            1.000000          1.000000  ...       1.000000       1.000000   \n",
      "\n",
      "            Dest_VIS       Dest_VLD       Dest_VPS       Dest_WRG  \\\n",
      "count  100000.000000  100000.000000  100000.000000  100000.000000   \n",
      "mean        0.000070       0.000170       0.000990       0.000110   \n",
      "std         0.008366       0.013037       0.031449       0.010488   \n",
      "min         0.000000       0.000000       0.000000       0.000000   \n",
      "25%         0.000000       0.000000       0.000000       0.000000   \n",
      "50%         0.000000       0.000000       0.000000       0.000000   \n",
      "75%         0.000000       0.000000       0.000000       0.000000   \n",
      "max         1.000000       1.000000       1.000000       1.000000   \n",
      "\n",
      "            Dest_WYS       Dest_XNA       Dest_YAK       Dest_YUM  \n",
      "count  100000.000000  100000.000000  100000.000000  100000.000000  \n",
      "mean        0.000040       0.001810       0.000130       0.000320  \n",
      "std         0.006324       0.042506       0.011401       0.017886  \n",
      "min         0.000000       0.000000       0.000000       0.000000  \n",
      "25%         0.000000       0.000000       0.000000       0.000000  \n",
      "50%         0.000000       0.000000       0.000000       0.000000  \n",
      "75%         0.000000       0.000000       0.000000       0.000000  \n",
      "max         1.000000       1.000000       1.000000       1.000000  \n",
      "\n",
      "[8 rows x 606 columns]\n"
     ]
    }
   ],
   "source": [
    "df2 = pd.get_dummies(df,drop_first=False)\n",
    "print(df2.describe(include=\"all\"))"
   ]
  },
  {
   "cell_type": "code",
   "execution_count": 146,
   "metadata": {},
   "outputs": [
    {
     "name": "stderr",
     "output_type": "stream",
     "text": [
      "F:\\Programs\\Anaconda\\lib\\site-packages\\ipykernel_launcher.py:4: FutureWarning: Method .as_matrix will be removed in a future version. Use .values instead.\n",
      "  after removing the cwd from sys.path.\n"
     ]
    },
    {
     "name": "stdout",
     "output_type": "stream",
     "text": [
      "Training set size: 70000, test set size: 30000, total: 100000\n"
     ]
    }
   ],
   "source": [
    "# Convert pandas dataframe to its numpy representation, separating out features from target variable.\n",
    "features = df2.columns.values.tolist()\n",
    "features.remove(\"dep_delayed_15min\")\n",
    "X = df2.as_matrix(columns=features)\n",
    "Y = np.array([int(i) for i in df2[\"dep_delayed_15min\"].tolist()])\n",
    "\n",
    "# Create training and test sets, with desired proportions.\n",
    "X_train, X_test, y_train, y_test = train_test_split(X, Y, test_size=0.3)\n",
    "\n",
    "print(\"Training set size: %i, test set size: %i, total: %i\" %(len(y_train),len(y_test),len(Y)))"
   ]
  },
  {
   "cell_type": "code",
   "execution_count": 147,
   "metadata": {},
   "outputs": [
    {
     "name": "stdout",
     "output_type": "stream",
     "text": [
      "Wall time: 17 s\n"
     ]
    },
    {
     "data": {
      "text/plain": [
       "RandomForestClassifier(bootstrap=True, class_weight='balanced_subsample',\n",
       "                       criterion='gini', max_depth=20, max_features='auto',\n",
       "                       max_leaf_nodes=None, min_impurity_decrease=0.0,\n",
       "                       min_impurity_split=None, min_samples_leaf=1,\n",
       "                       min_samples_split=2, min_weight_fraction_leaf=0.0,\n",
       "                       n_estimators=50, n_jobs=None, oob_score=False,\n",
       "                       random_state=None, verbose=0, warm_start=False)"
      ]
     },
     "execution_count": 147,
     "metadata": {},
     "output_type": "execute_result"
    }
   ],
   "source": [
    "from sklearn.ensemble import RandomForestClassifier\n",
    "\n",
    "rf2 = RandomForestClassifier(n_estimators=50, max_depth=20, class_weight=\"balanced_subsample\")\n",
    "\n",
    "%time rf2.fit(X_train, y_train)"
   ]
  },
  {
   "cell_type": "code",
   "execution_count": 148,
   "metadata": {},
   "outputs": [
    {
     "name": "stdout",
     "output_type": "stream",
     "text": [
      "Mean accuracy on Training set: 0.7035714285714286\n",
      "Mean accuracy on Test set:     0.6448\n"
     ]
    }
   ],
   "source": [
    "print(\"Mean accuracy on Training set: %s\" %rf2.score(X_train, y_train))\n",
    "print(\"Mean accuracy on Test set:     %s\" %rf2.score(X_test, y_test))"
   ]
  },
  {
   "cell_type": "code",
   "execution_count": 149,
   "metadata": {
    "scrolled": false
   },
   "outputs": [
    {
     "name": "stdout",
     "output_type": "stream",
     "text": [
      "Количество тестовых строк = 30000\n",
      "Количество тестовых строк, которые равны единице = 5692\n",
      "Задержек в Training: 13352, Без задержек: 56648\n",
      "Задержек в Testing: 5692, Без задержек: 24308\n"
     ]
    },
    {
     "data": {
      "text/plain": [
       "Text(0.5, 1.0, 'Test')"
      ]
     },
     "execution_count": 149,
     "metadata": {},
     "output_type": "execute_result"
    },
    {
     "data": {
      "image/png": "[encoded data removed]",
      "text/plain": [
       "<Figure size 720x360 with 1 Axes>"
      ]
     },
     "metadata": {
      "needs_background": "light"
     },
     "output_type": "display_data"
    },
    {
     "data": {
      "image/png": "[encoded data removed]",
      "text/plain": [
       "<Figure size 864x360 with 2 Axes>"
      ]
     },
     "metadata": {
      "needs_background": "light"
     },
     "output_type": "display_data"
    }
   ],
   "source": [
    "print('Количество тестовых строк = %i' %len(y_test))\n",
    "print('Количество тестовых строк, которые равны единице = %i' %(len([val for val in y_test if val])))\n",
    "\n",
    "y_test_pred    = [p2 for [p1,p2] in rf2.predict_proba(X_test)]\n",
    "y_train_pred   = [p2 for [p1,p2] in rf2.predict_proba(X_train)]\n",
    "\n",
    "# Compute and plot feature importances\n",
    "importances = rf2.feature_importances_\n",
    "indices     = np.argsort(importances)[::-1]\n",
    "n_features  = min(20,indices.size)\n",
    "bins        = np.arange(n_features)\n",
    "x_labels    = np.array(features)[indices][:n_features]\n",
    "fig, axes   = plt.subplots(nrows=1, ncols=1, figsize=(10, 5))\n",
    "\n",
    "plt.suptitle(\"Feature Importances\", fontsize=15)\n",
    "axes.bar(bins, importances[indices][:n_features], align=\"center\", color=\"red\", alpha=0.5)\n",
    "axes.set_xticks(bins)\n",
    "axes.set_xticklabels(x_labels, ha=\"right\", rotation=45.)\n",
    "axes.set_xlim([-0.5,bins.size-0.5])\n",
    "\n",
    "#fig.savefig('FeatureImportances.png', dpi=200, bbox_inches='tight')\n",
    "\n",
    "# Histogram random forest output probabilities\n",
    "y_train_pred_1 = [pred for (pred,truth) in zip(y_train_pred,y_train) if truth==1]\n",
    "y_train_pred_0 = [pred for (pred,truth) in zip(y_train_pred,y_train) if truth==0]\n",
    "y_test_pred_1  = [pred for (pred,truth) in zip(y_test_pred,y_test) if truth==1]\n",
    "y_test_pred_0  = [pred for (pred,truth) in zip(y_test_pred,y_test) if truth==0]\n",
    "print(\"Задержек в Training: %i, Без задержек: %i\" %(len(y_train_pred_1),len(y_train_pred_0)))\n",
    "print(\"Задержек в Testing: %i, Без задержек: %i\" %(len(y_test_pred_1),len(y_test_pred_0)))\n",
    "\n",
    "bin_edges        = np.linspace(0.0,1.0,11)\n",
    "hist1,bin_edges1 = np.histogram(y_train_pred_1, bins=bin_edges, density=False)\n",
    "hist2,bin_edges2 = np.histogram(y_train_pred_0, bins=bin_edges, density=False)\n",
    "\n",
    "hist1,bin_edges1 = np.histogram(y_test_pred_1, bins=bin_edges, density=False)\n",
    "hist2,bin_edges2 = np.histogram(y_test_pred_0, bins=bin_edges, density=False)\n",
    "\n",
    "\n",
    "fig, axes = plt.subplots(nrows=1, ncols=2, figsize=(12,5))\n",
    "plt.subplots_adjust(wspace=0.40)\n",
    "axes[0].hist(y_train_pred_1, bins=20, range=[0.0,1.0], color=Ycol, histtype=\"step\", label=\"delay\", density=True)\n",
    "axes[0].hist(y_train_pred_0, bins=20, range=[0.0,1.0], color=Ncol, histtype=\"step\", label=\"no delay\", density=True)\n",
    "axes[0].legend(prop={'size': 13})\n",
    "axes[0].set_title(\"Training\", fontsize=15)\n",
    "axes[1].hist(y_test_pred_1, bins=20, range=[0.0,1.0], color=Ycol, histtype=\"step\", label=\"delay\", density=True)\n",
    "axes[1].hist(y_test_pred_0, bins=20, range=[0.0,1.0], color=Ncol, histtype=\"step\", label=\"no delay\", density=True)\n",
    "axes[1].legend(prop={'size': 13})\n",
    "axes[1].set_title(\"Test\", fontsize=15)"
   ]
  },
  {
   "cell_type": "code",
   "execution_count": 150,
   "metadata": {},
   "outputs": [
    {
     "data": {
      "text/html": [
       "<div>\n",
       "<style scoped>\n",
       "    .dataframe tbody tr th:only-of-type {\n",
       "        vertical-align: middle;\n",
       "    }\n",
       "\n",
       "    .dataframe tbody tr th {\n",
       "        vertical-align: top;\n",
       "    }\n",
       "\n",
       "    .dataframe thead th {\n",
       "        text-align: right;\n",
       "    }\n",
       "</style>\n",
       "<table border=\"1\" class=\"dataframe\">\n",
       "  <thead>\n",
       "    <tr style=\"text-align: right;\">\n",
       "      <th></th>\n",
       "      <th>Month</th>\n",
       "      <th>DayofMonth</th>\n",
       "      <th>DayOfWeek</th>\n",
       "      <th>DepTime</th>\n",
       "      <th>Distance</th>\n",
       "      <th>dep_delayed_15min</th>\n",
       "      <th>UniqueCarrier_AA</th>\n",
       "      <th>UniqueCarrier_AQ</th>\n",
       "      <th>UniqueCarrier_AS</th>\n",
       "      <th>UniqueCarrier_B6</th>\n",
       "      <th>...</th>\n",
       "      <th>Dest_TYS</th>\n",
       "      <th>Dest_VCT</th>\n",
       "      <th>Dest_VIS</th>\n",
       "      <th>Dest_VLD</th>\n",
       "      <th>Dest_VPS</th>\n",
       "      <th>Dest_WRG</th>\n",
       "      <th>Dest_WYS</th>\n",
       "      <th>Dest_XNA</th>\n",
       "      <th>Dest_YAK</th>\n",
       "      <th>Dest_YUM</th>\n",
       "    </tr>\n",
       "  </thead>\n",
       "  <tbody>\n",
       "    <tr>\n",
       "      <td>0</td>\n",
       "      <td>8</td>\n",
       "      <td>21</td>\n",
       "      <td>7</td>\n",
       "      <td>1934</td>\n",
       "      <td>732</td>\n",
       "      <td>0</td>\n",
       "      <td>1</td>\n",
       "      <td>0</td>\n",
       "      <td>0</td>\n",
       "      <td>0</td>\n",
       "      <td>...</td>\n",
       "      <td>0</td>\n",
       "      <td>0</td>\n",
       "      <td>0</td>\n",
       "      <td>0</td>\n",
       "      <td>0</td>\n",
       "      <td>0</td>\n",
       "      <td>0</td>\n",
       "      <td>0</td>\n",
       "      <td>0</td>\n",
       "      <td>0</td>\n",
       "    </tr>\n",
       "    <tr>\n",
       "      <td>1</td>\n",
       "      <td>4</td>\n",
       "      <td>20</td>\n",
       "      <td>3</td>\n",
       "      <td>1548</td>\n",
       "      <td>834</td>\n",
       "      <td>0</td>\n",
       "      <td>0</td>\n",
       "      <td>0</td>\n",
       "      <td>0</td>\n",
       "      <td>0</td>\n",
       "      <td>...</td>\n",
       "      <td>0</td>\n",
       "      <td>0</td>\n",
       "      <td>0</td>\n",
       "      <td>0</td>\n",
       "      <td>0</td>\n",
       "      <td>0</td>\n",
       "      <td>0</td>\n",
       "      <td>0</td>\n",
       "      <td>0</td>\n",
       "      <td>0</td>\n",
       "    </tr>\n",
       "    <tr>\n",
       "      <td>2</td>\n",
       "      <td>9</td>\n",
       "      <td>2</td>\n",
       "      <td>5</td>\n",
       "      <td>1422</td>\n",
       "      <td>416</td>\n",
       "      <td>0</td>\n",
       "      <td>0</td>\n",
       "      <td>0</td>\n",
       "      <td>0</td>\n",
       "      <td>0</td>\n",
       "      <td>...</td>\n",
       "      <td>0</td>\n",
       "      <td>0</td>\n",
       "      <td>0</td>\n",
       "      <td>0</td>\n",
       "      <td>0</td>\n",
       "      <td>0</td>\n",
       "      <td>0</td>\n",
       "      <td>0</td>\n",
       "      <td>0</td>\n",
       "      <td>0</td>\n",
       "    </tr>\n",
       "    <tr>\n",
       "      <td>3</td>\n",
       "      <td>11</td>\n",
       "      <td>25</td>\n",
       "      <td>6</td>\n",
       "      <td>1015</td>\n",
       "      <td>872</td>\n",
       "      <td>0</td>\n",
       "      <td>0</td>\n",
       "      <td>0</td>\n",
       "      <td>0</td>\n",
       "      <td>0</td>\n",
       "      <td>...</td>\n",
       "      <td>0</td>\n",
       "      <td>0</td>\n",
       "      <td>0</td>\n",
       "      <td>0</td>\n",
       "      <td>0</td>\n",
       "      <td>0</td>\n",
       "      <td>0</td>\n",
       "      <td>0</td>\n",
       "      <td>0</td>\n",
       "      <td>0</td>\n",
       "    </tr>\n",
       "    <tr>\n",
       "      <td>4</td>\n",
       "      <td>10</td>\n",
       "      <td>7</td>\n",
       "      <td>6</td>\n",
       "      <td>1828</td>\n",
       "      <td>423</td>\n",
       "      <td>1</td>\n",
       "      <td>0</td>\n",
       "      <td>0</td>\n",
       "      <td>0</td>\n",
       "      <td>0</td>\n",
       "      <td>...</td>\n",
       "      <td>0</td>\n",
       "      <td>0</td>\n",
       "      <td>0</td>\n",
       "      <td>0</td>\n",
       "      <td>0</td>\n",
       "      <td>0</td>\n",
       "      <td>0</td>\n",
       "      <td>0</td>\n",
       "      <td>0</td>\n",
       "      <td>0</td>\n",
       "    </tr>\n",
       "    <tr>\n",
       "      <td>...</td>\n",
       "      <td>...</td>\n",
       "      <td>...</td>\n",
       "      <td>...</td>\n",
       "      <td>...</td>\n",
       "      <td>...</td>\n",
       "      <td>...</td>\n",
       "      <td>...</td>\n",
       "      <td>...</td>\n",
       "      <td>...</td>\n",
       "      <td>...</td>\n",
       "      <td>...</td>\n",
       "      <td>...</td>\n",
       "      <td>...</td>\n",
       "      <td>...</td>\n",
       "      <td>...</td>\n",
       "      <td>...</td>\n",
       "      <td>...</td>\n",
       "      <td>...</td>\n",
       "      <td>...</td>\n",
       "      <td>...</td>\n",
       "      <td>...</td>\n",
       "    </tr>\n",
       "    <tr>\n",
       "      <td>99995</td>\n",
       "      <td>5</td>\n",
       "      <td>4</td>\n",
       "      <td>3</td>\n",
       "      <td>1618</td>\n",
       "      <td>199</td>\n",
       "      <td>0</td>\n",
       "      <td>0</td>\n",
       "      <td>0</td>\n",
       "      <td>0</td>\n",
       "      <td>0</td>\n",
       "      <td>...</td>\n",
       "      <td>0</td>\n",
       "      <td>0</td>\n",
       "      <td>0</td>\n",
       "      <td>0</td>\n",
       "      <td>0</td>\n",
       "      <td>0</td>\n",
       "      <td>0</td>\n",
       "      <td>0</td>\n",
       "      <td>0</td>\n",
       "      <td>0</td>\n",
       "    </tr>\n",
       "    <tr>\n",
       "      <td>99996</td>\n",
       "      <td>1</td>\n",
       "      <td>18</td>\n",
       "      <td>3</td>\n",
       "      <td>804</td>\n",
       "      <td>884</td>\n",
       "      <td>0</td>\n",
       "      <td>0</td>\n",
       "      <td>0</td>\n",
       "      <td>0</td>\n",
       "      <td>0</td>\n",
       "      <td>...</td>\n",
       "      <td>0</td>\n",
       "      <td>0</td>\n",
       "      <td>0</td>\n",
       "      <td>0</td>\n",
       "      <td>0</td>\n",
       "      <td>0</td>\n",
       "      <td>0</td>\n",
       "      <td>0</td>\n",
       "      <td>0</td>\n",
       "      <td>0</td>\n",
       "    </tr>\n",
       "    <tr>\n",
       "      <td>99997</td>\n",
       "      <td>1</td>\n",
       "      <td>24</td>\n",
       "      <td>2</td>\n",
       "      <td>1901</td>\n",
       "      <td>1076</td>\n",
       "      <td>0</td>\n",
       "      <td>0</td>\n",
       "      <td>0</td>\n",
       "      <td>0</td>\n",
       "      <td>0</td>\n",
       "      <td>...</td>\n",
       "      <td>0</td>\n",
       "      <td>0</td>\n",
       "      <td>0</td>\n",
       "      <td>0</td>\n",
       "      <td>0</td>\n",
       "      <td>0</td>\n",
       "      <td>0</td>\n",
       "      <td>0</td>\n",
       "      <td>0</td>\n",
       "      <td>0</td>\n",
       "    </tr>\n",
       "    <tr>\n",
       "      <td>99998</td>\n",
       "      <td>4</td>\n",
       "      <td>27</td>\n",
       "      <td>4</td>\n",
       "      <td>1515</td>\n",
       "      <td>140</td>\n",
       "      <td>0</td>\n",
       "      <td>0</td>\n",
       "      <td>0</td>\n",
       "      <td>0</td>\n",
       "      <td>0</td>\n",
       "      <td>...</td>\n",
       "      <td>0</td>\n",
       "      <td>0</td>\n",
       "      <td>0</td>\n",
       "      <td>0</td>\n",
       "      <td>0</td>\n",
       "      <td>0</td>\n",
       "      <td>0</td>\n",
       "      <td>0</td>\n",
       "      <td>0</td>\n",
       "      <td>0</td>\n",
       "    </tr>\n",
       "    <tr>\n",
       "      <td>99999</td>\n",
       "      <td>11</td>\n",
       "      <td>17</td>\n",
       "      <td>4</td>\n",
       "      <td>1800</td>\n",
       "      <td>605</td>\n",
       "      <td>0</td>\n",
       "      <td>0</td>\n",
       "      <td>0</td>\n",
       "      <td>0</td>\n",
       "      <td>0</td>\n",
       "      <td>...</td>\n",
       "      <td>0</td>\n",
       "      <td>0</td>\n",
       "      <td>0</td>\n",
       "      <td>0</td>\n",
       "      <td>0</td>\n",
       "      <td>0</td>\n",
       "      <td>0</td>\n",
       "      <td>0</td>\n",
       "      <td>0</td>\n",
       "      <td>0</td>\n",
       "    </tr>\n",
       "  </tbody>\n",
       "</table>\n",
       "<p>100000 rows × 606 columns</p>\n",
       "</div>"
      ],
      "text/plain": [
       "       Month  DayofMonth  DayOfWeek  DepTime  Distance  dep_delayed_15min  \\\n",
       "0          8          21          7     1934       732                  0   \n",
       "1          4          20          3     1548       834                  0   \n",
       "2          9           2          5     1422       416                  0   \n",
       "3         11          25          6     1015       872                  0   \n",
       "4         10           7          6     1828       423                  1   \n",
       "...      ...         ...        ...      ...       ...                ...   \n",
       "99995      5           4          3     1618       199                  0   \n",
       "99996      1          18          3      804       884                  0   \n",
       "99997      1          24          2     1901      1076                  0   \n",
       "99998      4          27          4     1515       140                  0   \n",
       "99999     11          17          4     1800       605                  0   \n",
       "\n",
       "       UniqueCarrier_AA  UniqueCarrier_AQ  UniqueCarrier_AS  UniqueCarrier_B6  \\\n",
       "0                     1                 0                 0                 0   \n",
       "1                     0                 0                 0                 0   \n",
       "2                     0                 0                 0                 0   \n",
       "3                     0                 0                 0                 0   \n",
       "4                     0                 0                 0                 0   \n",
       "...                 ...               ...               ...               ...   \n",
       "99995                 0                 0                 0                 0   \n",
       "99996                 0                 0                 0                 0   \n",
       "99997                 0                 0                 0                 0   \n",
       "99998                 0                 0                 0                 0   \n",
       "99999                 0                 0                 0                 0   \n",
       "\n",
       "       ...  Dest_TYS  Dest_VCT  Dest_VIS  Dest_VLD  Dest_VPS  Dest_WRG  \\\n",
       "0      ...         0         0         0         0         0         0   \n",
       "1      ...         0         0         0         0         0         0   \n",
       "2      ...         0         0         0         0         0         0   \n",
       "3      ...         0         0         0         0         0         0   \n",
       "4      ...         0         0         0         0         0         0   \n",
       "...    ...       ...       ...       ...       ...       ...       ...   \n",
       "99995  ...         0         0         0         0         0         0   \n",
       "99996  ...         0         0         0         0         0         0   \n",
       "99997  ...         0         0         0         0         0         0   \n",
       "99998  ...         0         0         0         0         0         0   \n",
       "99999  ...         0         0         0         0         0         0   \n",
       "\n",
       "       Dest_WYS  Dest_XNA  Dest_YAK  Dest_YUM  \n",
       "0             0         0         0         0  \n",
       "1             0         0         0         0  \n",
       "2             0         0         0         0  \n",
       "3             0         0         0         0  \n",
       "4             0         0         0         0  \n",
       "...         ...       ...       ...       ...  \n",
       "99995         0         0         0         0  \n",
       "99996         0         0         0         0  \n",
       "99997         0         0         0         0  \n",
       "99998         0         0         0         0  \n",
       "99999         0         0         0         0  \n",
       "\n",
       "[100000 rows x 606 columns]"
      ]
     },
     "execution_count": 150,
     "metadata": {},
     "output_type": "execute_result"
    }
   ],
   "source": [
    "df2"
   ]
  },
  {
   "cell_type": "code",
   "execution_count": 151,
   "metadata": {},
   "outputs": [],
   "source": [
    "Y = df['dep_delayed_15min']"
   ]
  },
  {
   "cell_type": "code",
   "execution_count": 152,
   "metadata": {},
   "outputs": [],
   "source": [
    "X = df[['DepTime','Distance', 'DayOfWeek', 'DayofMonth']]"
   ]
  },
  {
   "cell_type": "code",
   "execution_count": 153,
   "metadata": {},
   "outputs": [],
   "source": [
    "model = LinearRegression()"
   ]
  },
  {
   "cell_type": "code",
   "execution_count": 154,
   "metadata": {},
   "outputs": [],
   "source": [
    "X_train, X_test, Y_train, Y_test = train_test_split(X,Y)"
   ]
  },
  {
   "cell_type": "code",
   "execution_count": 155,
   "metadata": {},
   "outputs": [
    {
     "data": {
      "text/plain": [
       "LinearRegression(copy_X=True, fit_intercept=True, n_jobs=None, normalize=False)"
      ]
     },
     "execution_count": 155,
     "metadata": {},
     "output_type": "execute_result"
    }
   ],
   "source": [
    "model.fit(X_train,Y_train)"
   ]
  },
  {
   "cell_type": "code",
   "execution_count": 156,
   "metadata": {},
   "outputs": [
    {
     "data": {
      "text/plain": [
       "array([ 1.99272758e-04, -1.38905791e-06,  1.89423862e-03,  1.17767304e-03])"
      ]
     },
     "execution_count": 156,
     "metadata": {},
     "output_type": "execute_result"
    }
   ],
   "source": [
    "model.coef_"
   ]
  },
  {
   "cell_type": "code",
   "execution_count": 157,
   "metadata": {},
   "outputs": [
    {
     "data": {
      "text/plain": [
       "0.29071575720996734"
      ]
     },
     "execution_count": 157,
     "metadata": {},
     "output_type": "execute_result"
    }
   ],
   "source": [
    "metrics.mean_absolute_error(model.predict(X_test),Y_test)"
   ]
  },
  {
   "cell_type": "code",
   "execution_count": 158,
   "metadata": {},
   "outputs": [
    {
     "data": {
      "text/plain": [
       "0.1448892893828839"
      ]
     },
     "execution_count": 158,
     "metadata": {},
     "output_type": "execute_result"
    }
   ],
   "source": [
    "metrics.mean_squared_error(model.predict(X_test),Y_test)"
   ]
  },
  {
   "cell_type": "code",
   "execution_count": 159,
   "metadata": {},
   "outputs": [],
   "source": [
    "# metrics.mean_squared_log_error(model.predict(X_test),Y_test)"
   ]
  },
  {
   "cell_type": "code",
   "execution_count": 160,
   "metadata": {},
   "outputs": [
    {
     "data": {
      "text/plain": [
       "-14.693398764416708"
      ]
     },
     "execution_count": 160,
     "metadata": {},
     "output_type": "execute_result"
    }
   ],
   "source": [
    "metrics.r2_score(model.predict(X_test),Y_test)"
   ]
  },
  {
   "cell_type": "code",
   "execution_count": 161,
   "metadata": {},
   "outputs": [
    {
     "data": {
      "text/plain": [
       "array([0.24289555, 0.13147311, 0.11809601, ..., 0.33924782, 0.40714203,\n",
       "       0.11751496])"
      ]
     },
     "execution_count": 161,
     "metadata": {},
     "output_type": "execute_result"
    }
   ],
   "source": [
    "model.predict(X_test)"
   ]
  },
  {
   "cell_type": "code",
   "execution_count": 162,
   "metadata": {},
   "outputs": [
    {
     "data": {
      "text/plain": [
       "0.06306976951956889"
      ]
     },
     "execution_count": 162,
     "metadata": {},
     "output_type": "execute_result"
    }
   ],
   "source": [
    "model.score(X_test, Y_test)"
   ]
  },
  {
   "cell_type": "code",
   "execution_count": 163,
   "metadata": {},
   "outputs": [
    {
     "data": {
      "text/plain": [
       "0.05917975040173595"
      ]
     },
     "execution_count": 163,
     "metadata": {},
     "output_type": "execute_result"
    }
   ],
   "source": [
    "model.score(X_train, Y_train)"
   ]
  },
  {
   "cell_type": "code",
   "execution_count": 164,
   "metadata": {},
   "outputs": [
    {
     "name": "stdout",
     "output_type": "stream",
     "text": [
      "0.29071575720996734\n",
      "0.1448892893828839\n"
     ]
    }
   ],
   "source": [
    "print(metrics.mean_absolute_error(model.predict(X_test),Y_test))\n",
    "print(metrics.mean_squared_error(model.predict(X_test),Y_test))"
   ]
  },
  {
   "cell_type": "code",
   "execution_count": 165,
   "metadata": {
    "scrolled": false
   },
   "outputs": [],
   "source": [
    "# plt.plot(df['DepTime'],Y)\n",
    "# plt.scatter(df['DepTime'],model.predict(X),c='red')"
   ]
  },
  {
   "cell_type": "code",
   "execution_count": 42,
   "metadata": {
    "scrolled": false
   },
   "outputs": [
    {
     "data": {
      "text/plain": [
       "(array([  368.,    84.,  9988., 17504., 17005., 16820., 17093., 14228.,\n",
       "         6501.,   409.]),\n",
       " array([-0.10178666, -0.04689098,  0.0080047 ,  0.06290037,  0.11779605,\n",
       "         0.17269173,  0.22758741,  0.28248309,  0.33737877,  0.39227445,\n",
       "         0.44717013]),\n",
       " <a list of 1 Patch objects>)"
      ]
     },
     "execution_count": 42,
     "metadata": {},
     "output_type": "execute_result"
    },
    {
     "data": {
      "image/png": "[encoded data removed]",
      "text/plain": [
       "<Figure size 864x360 with 2 Axes>"
      ]
     },
     "metadata": {
      "needs_background": "light"
     },
     "output_type": "display_data"
    }
   ],
   "source": [
    "# fig, axes = plt.subplots(nrows=1, ncols=2, figsize=(12,5))\n",
    "# plt.subplots_adjust(wspace=0.40)\n",
    "# axes[0].hist(X, histtype=\"step\", bins=10)\n",
    "# axes[1].hist(model.predict(X), histtype=\"step\", bins=10)"
   ]
  },
  {
   "cell_type": "code",
   "execution_count": 43,
   "metadata": {
    "scrolled": false
   },
   "outputs": [],
   "source": [
    "# fig, axes = plt.subplots(nrows=1, ncols=2, figsize=(12,5))\n",
    "# plt.subplots_adjust(wspace=0.40)\n",
    "# axes[0].hist(Y_train, bins=20, range=[0.0,1.0], color=Ycol, histtype=\"step\", label=\"delay\", density=True)\n",
    "# axes[0].hist(Y_train, bins=20, range=[0.0,1.0], color=Ncol, histtype=\"step\", label=\"no delay\", density=True)\n",
    "# axes[0].set_xlabel(\"Classifier Output\", fontsize=15)\n",
    "# axes[0].legend(prop={'size': 10}, loc=\"upper right\")\n",
    "# axes[0].set_title(\"Training Set\", fontsize=15)\n",
    "# axes[1].hist(Y_test, bins=20, range=[0.0,1.0], color=Ycol, histtype=\"step\", label=\"delay\", density=True)\n",
    "# axes[1].hist(Y_test, bins=20, range=[0.0,1.0], color=Ncol, histtype=\"step\", label=\"no delay\", density=True)\n",
    "# axes[1].set_xlabel(\"Classifier Output\", fontsize=15)\n",
    "# axes[1].legend(prop={'size': 10}, loc=\"upper right\")\n",
    "# axes[1].set_title(\"Test Set\", fontsize=15)"
   ]
  },
  {
   "cell_type": "code",
   "execution_count": 57,
   "metadata": {},
   "outputs": [],
   "source": [
    "days_in_month = np.array([31,28,31,30,31,30,31,31,30,31,30,31])\n",
    "def day_31_to_365(x):\n",
    "    days_365 = days_in_month[:x['Month']-1].sum() + x['DayofMonth']\n",
    "    return days_365\n",
    "\n",
    "df['DayofMonth'] = df.apply(day_31_to_365,axis = 1)\n",
    "df['WEEK'] = df['DayofMonth']//7"
   ]
  },
  {
   "cell_type": "code",
   "execution_count": 58,
   "metadata": {},
   "outputs": [
    {
     "data": {
      "text/plain": [
       "<matplotlib.axes._subplots.AxesSubplot at 0x184007a3248>"
      ]
     },
     "execution_count": 58,
     "metadata": {},
     "output_type": "execute_result"
    },
    {
     "data": {
      "image/png": "[encoded data removed]",
      "text/plain": [
       "<Figure size 720x432 with 1 Axes>"
      ]
     },
     "metadata": {
      "needs_background": "light"
     },
     "output_type": "display_data"
    }
   ],
   "source": [
    "df5 = df[[x for x in df.columns if 'dep_delayed_15min' in x] + ['DayofMonth']]\n",
    "df5.groupby('DayofMonth').sum().plot()"
   ]
  },
  {
   "cell_type": "code",
   "execution_count": 60,
   "metadata": {},
   "outputs": [],
   "source": [
    "def dadada(val):\n",
    "    if val <= 2400:\n",
    "        g= df['DepTime'] = np.ceil(val/600)\n",
    "        return g\n",
    "    else:\n",
    "        f = df['DepTime'] = np.round(val/600)\n",
    "        return f\n",
    "df['DepTime'] = df['DepTime'].apply(lambda x: round(dadada(x)),0)"
   ]
  },
  {
   "cell_type": "code",
   "execution_count": 61,
   "metadata": {},
   "outputs": [],
   "source": [
    "Delay_vs_Day_of_Week = pd.DataFrame({'delays' : df.groupby(['DayOfWeek'])['dep_delayed_15min'].mean()}).reset_index()\n",
    "Delay_vs_WEEK = pd.DataFrame({'delays' : df.groupby(['WEEK'])['dep_delayed_15min'].mean()}).reset_index()\n",
    "Delay_vs_AIRLINE = pd.DataFrame({'delays' : df.groupby(['UniqueCarrier'])['dep_delayed_15min'].mean()})\n",
    "Delay_vs_SCHEDULED_DEPARTURE = pd.DataFrame({'delays' : df.groupby(['DepTime'])['dep_delayed_15min'].mean()}).reset_index()"
   ]
  },
  {
   "cell_type": "code",
   "execution_count": 62,
   "metadata": {},
   "outputs": [
    {
     "data": {
      "text/plain": [
       "[Text(0, 0, '00:00 - 06:00'),\n",
       " Text(0, 0, '06:00 - 12:00'),\n",
       " Text(0, 0, '12:00 - 18:00'),\n",
       " Text(0, 0, '18:00 - 00:00')]"
      ]
     },
     "execution_count": 62,
     "metadata": {},
     "output_type": "execute_result"
    },
    {
     "data": {
      "image/png": "[encoded data removed]",
      "text/plain": [
       "<Figure size 1440x1080 with 4 Axes>"
      ]
     },
     "metadata": {
      "needs_background": "light"
     },
     "output_type": "display_data"
    }
   ],
   "source": [
    "fig = plt.figure(figsize=(20, 15))\n",
    "\n",
    "sub1 = fig.add_subplot(221) # instead of plt.subplot(2, 2, 1)\n",
    "sub1.set_title('Week of Year', fontsize=18, color=\"green\")\n",
    "sns.barplot(x=\"WEEK\", y=\"delays\", data=Delay_vs_WEEK, palette=\"ch:2.5,-.2,dark=.3\", ax = sub1)\n",
    "sub1.set_xticks(list(range(0,52,10)))\n",
    "sub1.set_xticklabels(list(range(0,52,10)))\n",
    "\n",
    "sub2 = fig.add_subplot(222)\n",
    "sub2.set_title('Day of Week', fontsize=18, color=\"red\")\n",
    "sns.barplot(x=\"DayOfWeek\", y=\"delays\", data=Delay_vs_Day_of_Week, palette=\"Reds_d\", ax = sub2)\n",
    "sub2.set_xticklabels(['Пн','Вт','Ср','Чт','Пт','Сб','Вс'])\n",
    "\n",
    "sub3 = fig.add_subplot(223)\n",
    "sub3.set_title('UniqueCarrier', fontsize=18, color=\"purple\")\n",
    "sns.barplot(y = list(range(len(Delay_vs_AIRLINE))), x=Delay_vs_AIRLINE['delays'], palette=\"Purples_d\", ax = sub3, orient=\"h\")\n",
    "sub3.set_yticks(range(len(Delay_vs_AIRLINE)))\n",
    "sub3.set_yticklabels(Delay_vs_AIRLINE.index)\n",
    "\n",
    "sub4 = fig.add_subplot(224)\n",
    "sns.barplot(x = list(range(len(Delay_vs_SCHEDULED_DEPARTURE))), y=Delay_vs_SCHEDULED_DEPARTURE['delays'], palette=\"GnBu_r\", ax = sub4)\n",
    "sub4.set_title('Departure Time', fontsize=18, color=\"green\")\n",
    "sub4.set_xticks([0, 1, 2, 3])\n",
    "sub4.set_xticklabels(['00:00 - 06:00','06:00 - 12:00','12:00 - 18:00','18:00 - 00:00'])"
   ]
  },
  {
   "cell_type": "code",
   "execution_count": 65,
   "metadata": {},
   "outputs": [],
   "source": [
    "df2_delay   = df2[df2.dep_delayed_15min==True]\n",
    "df2_nodelay = df2[df2.dep_delayed_15min==False]"
   ]
  },
  {
   "cell_type": "code",
   "execution_count": 66,
   "metadata": {},
   "outputs": [
    {
     "data": {
      "text/html": [
       "<div>\n",
       "<style scoped>\n",
       "    .dataframe tbody tr th:only-of-type {\n",
       "        vertical-align: middle;\n",
       "    }\n",
       "\n",
       "    .dataframe tbody tr th {\n",
       "        vertical-align: top;\n",
       "    }\n",
       "\n",
       "    .dataframe thead th {\n",
       "        text-align: right;\n",
       "    }\n",
       "</style>\n",
       "<table border=\"1\" class=\"dataframe\">\n",
       "  <thead>\n",
       "    <tr style=\"text-align: right;\">\n",
       "      <th></th>\n",
       "      <th>Month</th>\n",
       "      <th>DayofMonth</th>\n",
       "      <th>DayOfWeek</th>\n",
       "      <th>DepTime</th>\n",
       "      <th>UniqueCarrier</th>\n",
       "      <th>Origin</th>\n",
       "      <th>Dest</th>\n",
       "      <th>Distance</th>\n",
       "      <th>dep_delayed_15min</th>\n",
       "      <th>WEEK</th>\n",
       "    </tr>\n",
       "  </thead>\n",
       "  <tbody>\n",
       "    <tr>\n",
       "      <td>0</td>\n",
       "      <td>8</td>\n",
       "      <td>233</td>\n",
       "      <td>7</td>\n",
       "      <td>4</td>\n",
       "      <td>AA</td>\n",
       "      <td>ATL</td>\n",
       "      <td>DFW</td>\n",
       "      <td>732</td>\n",
       "      <td>0</td>\n",
       "      <td>33</td>\n",
       "    </tr>\n",
       "    <tr>\n",
       "      <td>1</td>\n",
       "      <td>4</td>\n",
       "      <td>110</td>\n",
       "      <td>3</td>\n",
       "      <td>3</td>\n",
       "      <td>US</td>\n",
       "      <td>PIT</td>\n",
       "      <td>MCO</td>\n",
       "      <td>834</td>\n",
       "      <td>0</td>\n",
       "      <td>15</td>\n",
       "    </tr>\n",
       "    <tr>\n",
       "      <td>2</td>\n",
       "      <td>9</td>\n",
       "      <td>245</td>\n",
       "      <td>5</td>\n",
       "      <td>3</td>\n",
       "      <td>XE</td>\n",
       "      <td>RDU</td>\n",
       "      <td>CLE</td>\n",
       "      <td>416</td>\n",
       "      <td>0</td>\n",
       "      <td>35</td>\n",
       "    </tr>\n",
       "    <tr>\n",
       "      <td>3</td>\n",
       "      <td>11</td>\n",
       "      <td>329</td>\n",
       "      <td>6</td>\n",
       "      <td>2</td>\n",
       "      <td>OO</td>\n",
       "      <td>DEN</td>\n",
       "      <td>MEM</td>\n",
       "      <td>872</td>\n",
       "      <td>0</td>\n",
       "      <td>47</td>\n",
       "    </tr>\n",
       "    <tr>\n",
       "      <td>4</td>\n",
       "      <td>10</td>\n",
       "      <td>280</td>\n",
       "      <td>6</td>\n",
       "      <td>4</td>\n",
       "      <td>WN</td>\n",
       "      <td>MDW</td>\n",
       "      <td>OMA</td>\n",
       "      <td>423</td>\n",
       "      <td>1</td>\n",
       "      <td>40</td>\n",
       "    </tr>\n",
       "    <tr>\n",
       "      <td>...</td>\n",
       "      <td>...</td>\n",
       "      <td>...</td>\n",
       "      <td>...</td>\n",
       "      <td>...</td>\n",
       "      <td>...</td>\n",
       "      <td>...</td>\n",
       "      <td>...</td>\n",
       "      <td>...</td>\n",
       "      <td>...</td>\n",
       "      <td>...</td>\n",
       "    </tr>\n",
       "    <tr>\n",
       "      <td>99995</td>\n",
       "      <td>5</td>\n",
       "      <td>124</td>\n",
       "      <td>3</td>\n",
       "      <td>3</td>\n",
       "      <td>OO</td>\n",
       "      <td>SFO</td>\n",
       "      <td>RDD</td>\n",
       "      <td>199</td>\n",
       "      <td>0</td>\n",
       "      <td>17</td>\n",
       "    </tr>\n",
       "    <tr>\n",
       "      <td>99996</td>\n",
       "      <td>1</td>\n",
       "      <td>18</td>\n",
       "      <td>3</td>\n",
       "      <td>2</td>\n",
       "      <td>CO</td>\n",
       "      <td>EWR</td>\n",
       "      <td>DAB</td>\n",
       "      <td>884</td>\n",
       "      <td>0</td>\n",
       "      <td>2</td>\n",
       "    </tr>\n",
       "    <tr>\n",
       "      <td>99997</td>\n",
       "      <td>1</td>\n",
       "      <td>24</td>\n",
       "      <td>2</td>\n",
       "      <td>4</td>\n",
       "      <td>NW</td>\n",
       "      <td>DTW</td>\n",
       "      <td>IAH</td>\n",
       "      <td>1076</td>\n",
       "      <td>0</td>\n",
       "      <td>3</td>\n",
       "    </tr>\n",
       "    <tr>\n",
       "      <td>99998</td>\n",
       "      <td>4</td>\n",
       "      <td>117</td>\n",
       "      <td>4</td>\n",
       "      <td>3</td>\n",
       "      <td>MQ</td>\n",
       "      <td>DFW</td>\n",
       "      <td>GGG</td>\n",
       "      <td>140</td>\n",
       "      <td>0</td>\n",
       "      <td>16</td>\n",
       "    </tr>\n",
       "    <tr>\n",
       "      <td>99999</td>\n",
       "      <td>11</td>\n",
       "      <td>321</td>\n",
       "      <td>4</td>\n",
       "      <td>3</td>\n",
       "      <td>WN</td>\n",
       "      <td>SEA</td>\n",
       "      <td>SMF</td>\n",
       "      <td>605</td>\n",
       "      <td>0</td>\n",
       "      <td>45</td>\n",
       "    </tr>\n",
       "  </tbody>\n",
       "</table>\n",
       "<p>100000 rows × 10 columns</p>\n",
       "</div>"
      ],
      "text/plain": [
       "       Month  DayofMonth  DayOfWeek DepTime UniqueCarrier Origin Dest  \\\n",
       "0          8         233          7       4            AA    ATL  DFW   \n",
       "1          4         110          3       3            US    PIT  MCO   \n",
       "2          9         245          5       3            XE    RDU  CLE   \n",
       "3         11         329          6       2            OO    DEN  MEM   \n",
       "4         10         280          6       4            WN    MDW  OMA   \n",
       "...      ...         ...        ...     ...           ...    ...  ...   \n",
       "99995      5         124          3       3            OO    SFO  RDD   \n",
       "99996      1          18          3       2            CO    EWR  DAB   \n",
       "99997      1          24          2       4            NW    DTW  IAH   \n",
       "99998      4         117          4       3            MQ    DFW  GGG   \n",
       "99999     11         321          4       3            WN    SEA  SMF   \n",
       "\n",
       "       Distance  dep_delayed_15min  WEEK  \n",
       "0           732                  0    33  \n",
       "1           834                  0    15  \n",
       "2           416                  0    35  \n",
       "3           872                  0    47  \n",
       "4           423                  1    40  \n",
       "...         ...                ...   ...  \n",
       "99995       199                  0    17  \n",
       "99996       884                  0     2  \n",
       "99997      1076                  0     3  \n",
       "99998       140                  0    16  \n",
       "99999       605                  0    45  \n",
       "\n",
       "[100000 rows x 10 columns]"
      ]
     },
     "execution_count": 66,
     "metadata": {},
     "output_type": "execute_result"
    }
   ],
   "source": [
    "df"
   ]
  },
  {
   "cell_type": "code",
   "execution_count": null,
   "metadata": {},
   "outputs": [],
   "source": [
    "# from sklearn.preprocessing import LabelBinarizer\n",
    "\n",
    "# WEEK_LabBin = LabelBinarizer()\n",
    "# WEEK_LabBin.fit(df['WEEK'])\n",
    "# WEEK_binarized = np.array(WEEK_LabBin.transform(df['WEEK']))\n",
    "# WEEK_binarized_orig = np.array(WEEK_LabBin.transform(df['WEEK']))\n",
    "\n",
    "\n",
    "# DAY_OF_WEEK_LabBin = LabelBinarizer()\n",
    "# DAY_OF_WEEK_LabBin.fit(df['DayOfWeek'])\n",
    "# DAY_OF_WEEK_binarized = np.array(DAY_OF_WEEK_LabBin.transform(df['DayOfWeek']))\n",
    "# DAY_OF_WEEK_binarized_orig = np.array(DAY_OF_WEEK_LabBin.transform(df['DayOfWeek']))\n",
    "\n",
    "\n",
    "# AIRLINE_LabBin = LabelBinarizer()\n",
    "# AIRLINE_LabBin.fit(df['UniqueCarrier'])\n",
    "# AIRLINE_binarized = np.array(AIRLINE_LabBin.transform(df['UniqueCarrier']))\n",
    "# AIRLINE_binarized_orig = np.array(AIRLINE_LabBin.transform(df['UniqueCarrier']))\n",
    "\n",
    "\n",
    "# ORIGIN_AIRPORT_LabBin = LabelBinarizer()\n",
    "# ORIGIN_AIRPORT_LabBin.fit(df['Origin'])\n",
    "# ORIGIN_AIRPORT_binarized = np.array(DAY_OF_WEEK_LabBin.transform(df['Origin']))\n",
    "# ORIGIN_AIRPORT_binarized_orig = np.array(DAY_OF_WEEK_LabBin.transform(df['Origin']))\n",
    "\n",
    "\n",
    "# DESTINATION_AIRPORT_LabBin = LabelBinarizer()\n",
    "# DESTINATION_AIRPORT_LabBin.fit(df['Dest'])\n",
    "# DESTINATION_AIRPORT_binarized = np.array(DESTINATION_AIRPORT_LabBin.transform(df['Dest']))\n",
    "# DESTINATION_AIRPORT_binarized_orig = np.array(DESTINATION_AIRPORT_LabBin.transform(df['Dest']))\n",
    "\n",
    "\n",
    "# # SCHEDULED_DEPARTURE_LabBin = LabelBinarizer()\n",
    "# # SCHEDULED_DEPARTURE_LabBin.fit(df['DepTime'])\n",
    "# # SCHEDULED_DEPARTURE_binarized = np.array(SCHEDULED_DEPARTURE_LabBin.transform(df['DepTime']))\n",
    "# # SCHEDULED_DEPARTURE_binarized_orig = np.array(SCHEDULED_DEPARTURE_LabBin.transform(df['DepTime']))\n",
    "\n",
    "\n",
    "# # flights_binarized will contain all data in sparce matrix form\n",
    "# flights_binarized = np.concatenate((WEEK_binarized,DAY_OF_WEEK_binarized,AIRLINE_binarized,ORIGIN_AIRPORT_binarized,\n",
    "#                                     DESTINATION_AIRPORT_binarized),axis=1)\n",
    "# flights_binarized_orig = np.concatenate((WEEK_binarized_orig,DAY_OF_WEEK_binarized_orig,AIRLINE_binarized_orig,ORIGIN_AIRPORT_binarized_orig,\n",
    "#                                     DESTINATION_AIRPORT_binarized_orig),axis=1)\n",
    "\n",
    "# print(flights_binarized.shape)\n",
    "# print(flights_binarized_orig.shape)"
   ]
  },
  {
   "cell_type": "code",
   "execution_count": null,
   "metadata": {},
   "outputs": [],
   "source": [
    "df"
   ]
  },
  {
   "cell_type": "code",
   "execution_count": null,
   "metadata": {},
   "outputs": [],
   "source": [
    "sns.pairplot(df, hue='dep_delayed_15min')"
   ]
  },
  {
   "cell_type": "code",
   "execution_count": null,
   "metadata": {},
   "outputs": [],
   "source": []
  }
 ],
 "metadata": {
  "kernelspec": {
   "display_name": "Python 3",
   "language": "python",
   "name": "python3"
  },
  "language_info": {
   "codemirror_mode": {
    "name": "ipython",
    "version": 3
   },
   "file_extension": ".py",
   "mimetype": "text/x-python",
   "name": "python",
   "nbconvert_exporter": "python",
   "pygments_lexer": "ipython3",
   "version": "3.7.4"
  }
 },
 "nbformat": 4,
 "nbformat_minor": 2
}
