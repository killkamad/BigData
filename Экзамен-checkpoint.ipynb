{
 "cells": [
  {
   "cell_type": "code",
   "execution_count": 1,
   "metadata": {
    "scrolled": false
   },
   "outputs": [],
   "source": [
    "import pandas as pd\n",
    "import numpy as np\n",
    "import psycopg2\n",
    "import matplotlib.pyplot as plt\n",
    "import seaborn as sns\n",
    "from sklearn.linear_model import LinearRegression\n",
    "from sklearn import metrics\n",
    "%matplotlib inline\n",
    "from sklearn.model_selection import train_test_split\n",
    "import warnings\n",
    "warnings.filterwarnings('ignore')"
   ]
  },
  {
   "cell_type": "code",
   "execution_count": 2,
   "metadata": {},
   "outputs": [],
   "source": [
    "def aws():\n",
    "    try:\n",
    "        connection = psycopg2.connect(user='postgres',\n",
    "                                      password='password',\n",
    "                                      host='almau-students.cmwfjvlei66t.eu-central-1.rds.amazonaws.com',\n",
    "                                      port='5432',\n",
    "                                      database='postgres')\n",
    "        print('connected')\n",
    "    except(Exception, psycopg2.Error) as error:\n",
    "        connection = ''\n",
    "        print(error)\n",
    "    return connection"
   ]
  },
  {
   "cell_type": "code",
   "execution_count": 3,
   "metadata": {},
   "outputs": [],
   "source": [
    "#%time df = pd.read_sql_query('select * from flight_delays_1', aws()) #Подключка к удаленному серверу\n",
    "df = pd.read_csv('flight_delays 1.csv', header = 0, sep=',')"
   ]
  },
  {
   "cell_type": "code",
   "execution_count": null,
   "metadata": {},
   "outputs": [],
   "source": [
    "#df = df.rename({'month': 'Month', 'dayofmonth': 'DayofMonth', 'dayofweek': 'DayOfWeek', 'deptime': 'DepTime', 'uniquecarrier': 'UniqueCarrier', 'origin': 'Origin',\n",
    "                       'dest': 'Dest', 'distance': 'Distance', 'dep_delayed_15min': 'dep_delayed_15min'}, axis=1)\n",
    "#Хедер переименовали"
   ]
  },
  {
   "cell_type": "code",
   "execution_count": 4,
   "metadata": {},
   "outputs": [
    {
     "data": {
      "text/html": [
       "<div>\n",
       "<style scoped>\n",
       "    .dataframe tbody tr th:only-of-type {\n",
       "        vertical-align: middle;\n",
       "    }\n",
       "\n",
       "    .dataframe tbody tr th {\n",
       "        vertical-align: top;\n",
       "    }\n",
       "\n",
       "    .dataframe thead th {\n",
       "        text-align: right;\n",
       "    }\n",
       "</style>\n",
       "<table border=\"1\" class=\"dataframe\">\n",
       "  <thead>\n",
       "    <tr style=\"text-align: right;\">\n",
       "      <th></th>\n",
       "      <th>Month</th>\n",
       "      <th>DayofMonth</th>\n",
       "      <th>DayOfWeek</th>\n",
       "      <th>DepTime</th>\n",
       "      <th>UniqueCarrier</th>\n",
       "      <th>Origin</th>\n",
       "      <th>Dest</th>\n",
       "      <th>Distance</th>\n",
       "      <th>dep_delayed_15min</th>\n",
       "    </tr>\n",
       "  </thead>\n",
       "  <tbody>\n",
       "    <tr>\n",
       "      <td>0</td>\n",
       "      <td>c-8</td>\n",
       "      <td>c-21</td>\n",
       "      <td>c-7</td>\n",
       "      <td>1934</td>\n",
       "      <td>AA</td>\n",
       "      <td>ATL</td>\n",
       "      <td>DFW</td>\n",
       "      <td>732</td>\n",
       "      <td>N</td>\n",
       "    </tr>\n",
       "    <tr>\n",
       "      <td>1</td>\n",
       "      <td>c-4</td>\n",
       "      <td>c-20</td>\n",
       "      <td>c-3</td>\n",
       "      <td>1548</td>\n",
       "      <td>US</td>\n",
       "      <td>PIT</td>\n",
       "      <td>MCO</td>\n",
       "      <td>834</td>\n",
       "      <td>N</td>\n",
       "    </tr>\n",
       "    <tr>\n",
       "      <td>2</td>\n",
       "      <td>c-9</td>\n",
       "      <td>c-2</td>\n",
       "      <td>c-5</td>\n",
       "      <td>1422</td>\n",
       "      <td>XE</td>\n",
       "      <td>RDU</td>\n",
       "      <td>CLE</td>\n",
       "      <td>416</td>\n",
       "      <td>N</td>\n",
       "    </tr>\n",
       "    <tr>\n",
       "      <td>3</td>\n",
       "      <td>c-11</td>\n",
       "      <td>c-25</td>\n",
       "      <td>c-6</td>\n",
       "      <td>1015</td>\n",
       "      <td>OO</td>\n",
       "      <td>DEN</td>\n",
       "      <td>MEM</td>\n",
       "      <td>872</td>\n",
       "      <td>N</td>\n",
       "    </tr>\n",
       "    <tr>\n",
       "      <td>4</td>\n",
       "      <td>c-10</td>\n",
       "      <td>c-7</td>\n",
       "      <td>c-6</td>\n",
       "      <td>1828</td>\n",
       "      <td>WN</td>\n",
       "      <td>MDW</td>\n",
       "      <td>OMA</td>\n",
       "      <td>423</td>\n",
       "      <td>Y</td>\n",
       "    </tr>\n",
       "    <tr>\n",
       "      <td>...</td>\n",
       "      <td>...</td>\n",
       "      <td>...</td>\n",
       "      <td>...</td>\n",
       "      <td>...</td>\n",
       "      <td>...</td>\n",
       "      <td>...</td>\n",
       "      <td>...</td>\n",
       "      <td>...</td>\n",
       "      <td>...</td>\n",
       "    </tr>\n",
       "    <tr>\n",
       "      <td>99995</td>\n",
       "      <td>c-5</td>\n",
       "      <td>c-4</td>\n",
       "      <td>c-3</td>\n",
       "      <td>1618</td>\n",
       "      <td>OO</td>\n",
       "      <td>SFO</td>\n",
       "      <td>RDD</td>\n",
       "      <td>199</td>\n",
       "      <td>N</td>\n",
       "    </tr>\n",
       "    <tr>\n",
       "      <td>99996</td>\n",
       "      <td>c-1</td>\n",
       "      <td>c-18</td>\n",
       "      <td>c-3</td>\n",
       "      <td>804</td>\n",
       "      <td>CO</td>\n",
       "      <td>EWR</td>\n",
       "      <td>DAB</td>\n",
       "      <td>884</td>\n",
       "      <td>N</td>\n",
       "    </tr>\n",
       "    <tr>\n",
       "      <td>99997</td>\n",
       "      <td>c-1</td>\n",
       "      <td>c-24</td>\n",
       "      <td>c-2</td>\n",
       "      <td>1901</td>\n",
       "      <td>NW</td>\n",
       "      <td>DTW</td>\n",
       "      <td>IAH</td>\n",
       "      <td>1076</td>\n",
       "      <td>N</td>\n",
       "    </tr>\n",
       "    <tr>\n",
       "      <td>99998</td>\n",
       "      <td>c-4</td>\n",
       "      <td>c-27</td>\n",
       "      <td>c-4</td>\n",
       "      <td>1515</td>\n",
       "      <td>MQ</td>\n",
       "      <td>DFW</td>\n",
       "      <td>GGG</td>\n",
       "      <td>140</td>\n",
       "      <td>N</td>\n",
       "    </tr>\n",
       "    <tr>\n",
       "      <td>99999</td>\n",
       "      <td>c-11</td>\n",
       "      <td>c-17</td>\n",
       "      <td>c-4</td>\n",
       "      <td>1800</td>\n",
       "      <td>WN</td>\n",
       "      <td>SEA</td>\n",
       "      <td>SMF</td>\n",
       "      <td>605</td>\n",
       "      <td>N</td>\n",
       "    </tr>\n",
       "  </tbody>\n",
       "</table>\n",
       "<p>100000 rows × 9 columns</p>\n",
       "</div>"
      ],
      "text/plain": [
       "      Month DayofMonth DayOfWeek  DepTime UniqueCarrier Origin Dest  Distance  \\\n",
       "0       c-8       c-21       c-7     1934            AA    ATL  DFW       732   \n",
       "1       c-4       c-20       c-3     1548            US    PIT  MCO       834   \n",
       "2       c-9        c-2       c-5     1422            XE    RDU  CLE       416   \n",
       "3      c-11       c-25       c-6     1015            OO    DEN  MEM       872   \n",
       "4      c-10        c-7       c-6     1828            WN    MDW  OMA       423   \n",
       "...     ...        ...       ...      ...           ...    ...  ...       ...   \n",
       "99995   c-5        c-4       c-3     1618            OO    SFO  RDD       199   \n",
       "99996   c-1       c-18       c-3      804            CO    EWR  DAB       884   \n",
       "99997   c-1       c-24       c-2     1901            NW    DTW  IAH      1076   \n",
       "99998   c-4       c-27       c-4     1515            MQ    DFW  GGG       140   \n",
       "99999  c-11       c-17       c-4     1800            WN    SEA  SMF       605   \n",
       "\n",
       "      dep_delayed_15min  \n",
       "0                     N  \n",
       "1                     N  \n",
       "2                     N  \n",
       "3                     N  \n",
       "4                     Y  \n",
       "...                 ...  \n",
       "99995                 N  \n",
       "99996                 N  \n",
       "99997                 N  \n",
       "99998                 N  \n",
       "99999                 N  \n",
       "\n",
       "[100000 rows x 9 columns]"
      ]
     },
     "execution_count": 4,
     "metadata": {},
     "output_type": "execute_result"
    }
   ],
   "source": [
    "df"
   ]
  },
  {
   "cell_type": "code",
   "execution_count": 5,
   "metadata": {},
   "outputs": [],
   "source": [
    "def do_norm_table():\n",
    "    df['Month']= df['Month'].apply(lambda x: x.split('-')[1])\n",
    "    df['Month'] = df['Month'].apply(int)\n",
    "    df['DayofMonth'] = df['DayofMonth'].apply(lambda x: x.split('-')[1])\n",
    "    df['DayofMonth'] = df['DayofMonth'].apply(int)\n",
    "    df['DayOfWeek'] = df['DayOfWeek'].apply(lambda x: x.split('-')[1])\n",
    "    df['DayOfWeek'] = df['DayOfWeek'].apply(int)\n",
    "do_norm_table() #Делаем данные в нормальный вид\n",
    "def no_yes(val):\n",
    "    if 'Y' in val:\n",
    "        return 1\n",
    "    else:\n",
    "        return 0\n",
    "df['dep_delayed_15min'] = df['dep_delayed_15min'].apply(lambda x: no_yes(x))  #Меняем задержу с (Y и N) на (1 и 0)\n",
    "\n",
    "df_delay = df[df.dep_delayed_15min==1]\n",
    "df_nodelay = df[df['dep_delayed_15min']==0]\n",
    "delays = len(df_delay)\n",
    "nodelays = len(df_nodelay)\n",
    "airlines = sorted(df.UniqueCarrier.unique())\n",
    "origins= sorted(df.Origin.unique(), reverse=True)\n",
    "destinations= sorted(df.Dest.unique(), reverse=True)\n",
    "numAirlines= len(airlines)\n",
    "numOrigins= len(origins)\n",
    "numDestinations = len(destinations)\n",
    "minDist = df.Distance.min()\n",
    "maxDist = df.Distance.max()\n",
    "\n",
    "#Переменные Для графиков\n",
    "Ycol = [\"red\"] #Цвет задержали\n",
    "Ncol = [\"black\"] #Цвет не задержали\n",
    "plt.rcParams['figure.figsize'] = (10,6) #Размер графиков"
   ]
  },
  {
   "cell_type": "code",
   "execution_count": 6,
   "metadata": {
    "scrolled": false
   },
   "outputs": [
    {
     "name": "stdout",
     "output_type": "stream",
     "text": [
      "Количество задержек -  19044\n",
      "Количество без задержек -  80956\n",
      "Список Кодов аэропорта ИАТА -  ['AA', 'AQ', 'AS', 'B6', 'CO', 'DH', 'DL', 'EV', 'F9', 'FL', 'HA', 'HP', 'MQ', 'NW', 'OH', 'OO', 'TZ', 'UA', 'US', 'WN', 'XE', 'YV']\n",
      "Список эропортов откуда был вылет -  ['YUM', 'YAK', 'XNA', 'WYS', 'WRG', 'VPS', 'VLD', 'VIS', 'VCT', 'TYS', 'TYR', 'TXK', 'TWF', 'TVC', 'TUS', 'TUP', 'TUL', 'TRI', 'TPA', 'TOL', 'TLH', 'TEX', 'SYR', 'SWF', 'SUN', 'STX', 'STT', 'STL', 'SRQ', 'SPS', 'SPI', 'SNA', 'SMX', 'SMF', 'SLC', 'SJU', 'SJT', 'SJC', 'SIT', 'SHV', 'SGU', 'SGF', 'SFO', 'SEA', 'SDF', 'SCE', 'SCC', 'SBP', 'SBN', 'SBA', 'SAV', 'SAT', 'SAN', 'RSW', 'RST', 'ROC', 'ROA', 'RNO', 'RIC', 'RFD', 'RDU', 'RDM', 'RDD', 'RAP', 'PWM', 'PVD', 'PSP', 'PSG', 'PSE', 'PSC', 'PNS', 'PIT', 'PIH', 'PIE', 'PIA', 'PHX', 'PHL', 'PHF', 'PFN', 'PDX', 'PBI', 'OXR', 'OTZ', 'ORF', 'ORD', 'ONT', 'OME', 'OMA', 'OKC', 'OGG', 'OAK', 'OAJ', 'MYR', 'MTJ', 'MSY', 'MSP', 'MSO', 'MSN', 'MRY', 'MQT', 'MOT', 'MOD', 'MOB', 'MLU', 'MLI', 'MLB', 'MKE', 'MIA', 'MHT', 'MGM', 'MFR', 'MFE', 'MEM', 'MEI', 'MDW', 'MDT', 'MCO', 'MCN', 'MCI', 'MBS', 'MAF', 'LYH', 'LWS', 'LWB', 'LSE', 'LRD', 'LNK', 'LIT', 'LIH', 'LGB', 'LGA', 'LFT', 'LEX', 'LCH', 'LBB', 'LAX', 'LAW', 'LAS', 'LAN', 'KTN', 'KOA', 'JNU', 'JFK', 'JAX', 'JAN', 'JAC', 'IYK', 'ITO', 'ISP', 'ISO', 'IPL', 'IND', 'ILM', 'ILG', 'IDA', 'ICT', 'IAH', 'IAD', 'HVN', 'HTS', 'HSV', 'HRL', 'HPN', 'HOU', 'HNL', 'HLN', 'HKY', 'HDN', 'GUC', 'GTR', 'GTF', 'GST', 'GSP', 'GSO', 'GRR', 'GRK', 'GRB', 'GPT', 'GNV', 'GJT', 'GGG', 'GFK', 'GEG', 'FWA', 'FSM', 'FSD', 'FNT', 'FLO', 'FLL', 'FLG', 'FCA', 'FAY', 'FAT', 'FAR', 'FAI', 'EYW', 'EWR', 'EVV', 'EUG', 'ERI', 'ELP', 'EKO', 'EGE', 'DTW', 'DSM', 'DRO', 'DLH', 'DLG', 'DHN', 'DFW', 'DEN', 'DCA', 'DBQ', 'DAY', 'DAL', 'DAB', 'CWA', 'CVG', 'CSG', 'CRW', 'CRP', 'CPR', 'COS', 'COD', 'CMI', 'CMH', 'CLT', 'CLL', 'CLE', 'CLD', 'CID', 'CIC', 'CHS', 'CHO', 'CHA', 'CEC', 'CDV', 'CDC', 'CAK', 'CAE', 'BZN', 'BWI', 'BUR', 'BUF', 'BTV', 'BTR', 'BTM', 'BRW', 'BRO', 'BQN', 'BQK', 'BPT', 'BOS', 'BOI', 'BNA', 'BMI', 'BLI', 'BIS', 'BIL', 'BHM', 'BGR', 'BGM', 'BFL', 'BET', 'BDL', 'AZO', 'AVP', 'AVL', 'AUS', 'ATW', 'ATL', 'ASE', 'APF', 'ANC', 'AMA', 'ALB', 'AKN', 'AGS', 'AEX', 'ADQ', 'ADK', 'ACY', 'ACV', 'ACT', 'ACK', 'ABY', 'ABQ', 'ABI', 'ABE']\n",
      "Количество Авиакомпаний -  22\n",
      "Количество аэропортов откуда был вылет -  289\n",
      "Количество аэропортов куда был вылет -  289\n",
      "Минимальная дистранция в км -  30\n",
      "Максимальная дистранция в км -  4962\n"
     ]
    }
   ],
   "source": [
    "print('Количество задержек - ',delays)\n",
    "print('Количество без задержек - ',nodelays)\n",
    "print('Список Кодов аэропорта ИАТА - ',airlines)\n",
    "print('Список эропортов откуда был вылет - ',origins)\n",
    "# print('Место назначения - ',destinations) # ПОВТОРЯЕТ origins\n",
    "print('Количество Авиакомпаний - ',numAirlines)\n",
    "print('Количество аэропортов откуда был вылет - ',numOrigins)\n",
    "print('Количество аэропортов куда был вылет - ',numDestinations)\n",
    "print('Минимальная дистранция в км - ',minDist)\n",
    "print('Максимальная дистранция в км - ',maxDist)"
   ]
  },
  {
   "cell_type": "code",
   "execution_count": 7,
   "metadata": {
    "scrolled": false
   },
   "outputs": [
    {
     "data": {
      "text/html": [
       "<div>\n",
       "<style scoped>\n",
       "    .dataframe tbody tr th:only-of-type {\n",
       "        vertical-align: middle;\n",
       "    }\n",
       "\n",
       "    .dataframe tbody tr th {\n",
       "        vertical-align: top;\n",
       "    }\n",
       "\n",
       "    .dataframe thead th {\n",
       "        text-align: right;\n",
       "    }\n",
       "</style>\n",
       "<table border=\"1\" class=\"dataframe\">\n",
       "  <thead>\n",
       "    <tr style=\"text-align: right;\">\n",
       "      <th></th>\n",
       "      <th>Month</th>\n",
       "      <th>DayofMonth</th>\n",
       "      <th>DayOfWeek</th>\n",
       "      <th>DepTime</th>\n",
       "      <th>UniqueCarrier</th>\n",
       "      <th>Origin</th>\n",
       "      <th>Dest</th>\n",
       "      <th>Distance</th>\n",
       "      <th>dep_delayed_15min</th>\n",
       "    </tr>\n",
       "  </thead>\n",
       "  <tbody>\n",
       "    <tr>\n",
       "      <td>0</td>\n",
       "      <td>8</td>\n",
       "      <td>21</td>\n",
       "      <td>7</td>\n",
       "      <td>1934</td>\n",
       "      <td>AA</td>\n",
       "      <td>ATL</td>\n",
       "      <td>DFW</td>\n",
       "      <td>732</td>\n",
       "      <td>0</td>\n",
       "    </tr>\n",
       "    <tr>\n",
       "      <td>1</td>\n",
       "      <td>4</td>\n",
       "      <td>20</td>\n",
       "      <td>3</td>\n",
       "      <td>1548</td>\n",
       "      <td>US</td>\n",
       "      <td>PIT</td>\n",
       "      <td>MCO</td>\n",
       "      <td>834</td>\n",
       "      <td>0</td>\n",
       "    </tr>\n",
       "    <tr>\n",
       "      <td>2</td>\n",
       "      <td>9</td>\n",
       "      <td>2</td>\n",
       "      <td>5</td>\n",
       "      <td>1422</td>\n",
       "      <td>XE</td>\n",
       "      <td>RDU</td>\n",
       "      <td>CLE</td>\n",
       "      <td>416</td>\n",
       "      <td>0</td>\n",
       "    </tr>\n",
       "    <tr>\n",
       "      <td>3</td>\n",
       "      <td>11</td>\n",
       "      <td>25</td>\n",
       "      <td>6</td>\n",
       "      <td>1015</td>\n",
       "      <td>OO</td>\n",
       "      <td>DEN</td>\n",
       "      <td>MEM</td>\n",
       "      <td>872</td>\n",
       "      <td>0</td>\n",
       "    </tr>\n",
       "    <tr>\n",
       "      <td>4</td>\n",
       "      <td>10</td>\n",
       "      <td>7</td>\n",
       "      <td>6</td>\n",
       "      <td>1828</td>\n",
       "      <td>WN</td>\n",
       "      <td>MDW</td>\n",
       "      <td>OMA</td>\n",
       "      <td>423</td>\n",
       "      <td>1</td>\n",
       "    </tr>\n",
       "    <tr>\n",
       "      <td>...</td>\n",
       "      <td>...</td>\n",
       "      <td>...</td>\n",
       "      <td>...</td>\n",
       "      <td>...</td>\n",
       "      <td>...</td>\n",
       "      <td>...</td>\n",
       "      <td>...</td>\n",
       "      <td>...</td>\n",
       "      <td>...</td>\n",
       "    </tr>\n",
       "    <tr>\n",
       "      <td>99995</td>\n",
       "      <td>5</td>\n",
       "      <td>4</td>\n",
       "      <td>3</td>\n",
       "      <td>1618</td>\n",
       "      <td>OO</td>\n",
       "      <td>SFO</td>\n",
       "      <td>RDD</td>\n",
       "      <td>199</td>\n",
       "      <td>0</td>\n",
       "    </tr>\n",
       "    <tr>\n",
       "      <td>99996</td>\n",
       "      <td>1</td>\n",
       "      <td>18</td>\n",
       "      <td>3</td>\n",
       "      <td>804</td>\n",
       "      <td>CO</td>\n",
       "      <td>EWR</td>\n",
       "      <td>DAB</td>\n",
       "      <td>884</td>\n",
       "      <td>0</td>\n",
       "    </tr>\n",
       "    <tr>\n",
       "      <td>99997</td>\n",
       "      <td>1</td>\n",
       "      <td>24</td>\n",
       "      <td>2</td>\n",
       "      <td>1901</td>\n",
       "      <td>NW</td>\n",
       "      <td>DTW</td>\n",
       "      <td>IAH</td>\n",
       "      <td>1076</td>\n",
       "      <td>0</td>\n",
       "    </tr>\n",
       "    <tr>\n",
       "      <td>99998</td>\n",
       "      <td>4</td>\n",
       "      <td>27</td>\n",
       "      <td>4</td>\n",
       "      <td>1515</td>\n",
       "      <td>MQ</td>\n",
       "      <td>DFW</td>\n",
       "      <td>GGG</td>\n",
       "      <td>140</td>\n",
       "      <td>0</td>\n",
       "    </tr>\n",
       "    <tr>\n",
       "      <td>99999</td>\n",
       "      <td>11</td>\n",
       "      <td>17</td>\n",
       "      <td>4</td>\n",
       "      <td>1800</td>\n",
       "      <td>WN</td>\n",
       "      <td>SEA</td>\n",
       "      <td>SMF</td>\n",
       "      <td>605</td>\n",
       "      <td>0</td>\n",
       "    </tr>\n",
       "  </tbody>\n",
       "</table>\n",
       "<p>100000 rows × 9 columns</p>\n",
       "</div>"
      ],
      "text/plain": [
       "       Month  DayofMonth  DayOfWeek  DepTime UniqueCarrier Origin Dest  \\\n",
       "0          8          21          7     1934            AA    ATL  DFW   \n",
       "1          4          20          3     1548            US    PIT  MCO   \n",
       "2          9           2          5     1422            XE    RDU  CLE   \n",
       "3         11          25          6     1015            OO    DEN  MEM   \n",
       "4         10           7          6     1828            WN    MDW  OMA   \n",
       "...      ...         ...        ...      ...           ...    ...  ...   \n",
       "99995      5           4          3     1618            OO    SFO  RDD   \n",
       "99996      1          18          3      804            CO    EWR  DAB   \n",
       "99997      1          24          2     1901            NW    DTW  IAH   \n",
       "99998      4          27          4     1515            MQ    DFW  GGG   \n",
       "99999     11          17          4     1800            WN    SEA  SMF   \n",
       "\n",
       "       Distance  dep_delayed_15min  \n",
       "0           732                  0  \n",
       "1           834                  0  \n",
       "2           416                  0  \n",
       "3           872                  0  \n",
       "4           423                  1  \n",
       "...         ...                ...  \n",
       "99995       199                  0  \n",
       "99996       884                  0  \n",
       "99997      1076                  0  \n",
       "99998       140                  0  \n",
       "99999       605                  0  \n",
       "\n",
       "[100000 rows x 9 columns]"
      ]
     },
     "execution_count": 7,
     "metadata": {},
     "output_type": "execute_result"
    }
   ],
   "source": [
    "df"
   ]
  },
  {
   "cell_type": "code",
   "execution_count": 8,
   "metadata": {},
   "outputs": [
    {
     "name": "stdout",
     "output_type": "stream",
     "text": [
      "<class 'pandas.core.frame.DataFrame'>\n",
      "RangeIndex: 100000 entries, 0 to 99999\n",
      "Data columns (total 9 columns):\n",
      "Month                100000 non-null int64\n",
      "DayofMonth           100000 non-null int64\n",
      "DayOfWeek            100000 non-null int64\n",
      "DepTime              100000 non-null int64\n",
      "UniqueCarrier        100000 non-null object\n",
      "Origin               100000 non-null object\n",
      "Dest                 100000 non-null object\n",
      "Distance             100000 non-null int64\n",
      "dep_delayed_15min    100000 non-null int64\n",
      "dtypes: int64(6), object(3)\n",
      "memory usage: 6.9+ MB\n"
     ]
    }
   ],
   "source": [
    "df.info()"
   ]
  },
  {
   "cell_type": "code",
   "execution_count": 9,
   "metadata": {},
   "outputs": [
    {
     "data": {
      "text/plain": [
       "Text(0.5, 1.0, 'Авиакомпании')"
      ]
     },
     "execution_count": 9,
     "metadata": {},
     "output_type": "execute_result"
    },
    {
     "data": {
      "image/png": "[encoded data removed]",
      "text/plain": [
       "<Figure size 720x432 with 1 Axes>"
      ]
     },
     "metadata": {
      "needs_background": "light"
     },
     "output_type": "display_data"
    }
   ],
   "source": [
    "sns.countplot(x='UniqueCarrier', data=df)\n",
    "ax = plt.gca()\n",
    "ax.set_title(\"Авиакомпании\",fontsize=20)"
   ]
  },
  {
   "cell_type": "code",
   "execution_count": 10,
   "metadata": {},
   "outputs": [
    {
     "data": {
      "image/png": "[encoded data removed]",
      "text/plain": [
       "<Figure size 720x432 with 1 Axes>"
      ]
     },
     "metadata": {
      "needs_background": "light"
     },
     "output_type": "display_data"
    }
   ],
   "source": [
    "def dict_sort(my_dict):\n",
    "    keys = []\n",
    "    values = []\n",
    "    my_dict = sorted(my_dict.items(), key=lambda x:x[1], reverse=True)\n",
    "    for k, v in my_dict:\n",
    "        keys.append(k)\n",
    "        values.append(v)\n",
    "    return (keys,values)\n",
    "count = pd.value_counts(df['UniqueCarrier'].values, sort=True)\n",
    "keys, values = dict_sort(dict(count))    \n",
    "TOP = len(keys)\n",
    "plt.title('больше всего наблюдений', fontsize=12)\n",
    "plt.bar(np.arange(TOP), values, alpha=0.85)\n",
    "plt.xticks(np.arange(TOP), keys, rotation=0, fontsize=10)\n",
    "plt.yticks(fontsize=12)\n",
    "plt.ylabel('Количество наблюдений', fontsize=12)\n",
    "plt.xlabel(\"Авиакомпании\",fontsize=20)\n",
    "plt.show()"
   ]
  },
  {
   "cell_type": "code",
   "execution_count": 11,
   "metadata": {},
   "outputs": [
    {
     "data": {
      "text/plain": [
       "Text(0.5, 1.0, 'Дни недели')"
      ]
     },
     "execution_count": 11,
     "metadata": {},
     "output_type": "execute_result"
    },
    {
     "data": {
      "image/png": "[encoded data removed]",
      "text/plain": [
       "<Figure size 720x432 with 1 Axes>"
      ]
     },
     "metadata": {
      "needs_background": "light"
     },
     "output_type": "display_data"
    }
   ],
   "source": [
    "sns.countplot(x=\"DayOfWeek\",data=df, alpha=0.8)\n",
    "ax = plt.gca()\n",
    "ax.set_title(\"Дни недели\",fontsize=20)"
   ]
  },
  {
   "cell_type": "code",
   "execution_count": 12,
   "metadata": {
    "scrolled": false
   },
   "outputs": [
    {
     "name": "stdout",
     "output_type": "stream",
     "text": [
      "Процентаж задержания рейсов: 0 - без задержек, 1 - задержали\n",
      "0    81.0\n",
      "1    19.0\n",
      "Name: dep_delayed_15min, dtype: float64\n"
     ]
    },
    {
     "data": {
      "image/png": "[encoded data removed]",
      "text/plain": [
       "<Figure size 720x432 with 1 Axes>"
      ]
     },
     "metadata": {
      "needs_background": "light"
     },
     "output_type": "display_data"
    }
   ],
   "source": [
    "sns.countplot(x=\"dep_delayed_15min\",data=df, alpha=0.6)\n",
    "procentage = round(df['dep_delayed_15min'].value_counts() * 100 / len(df),1)\n",
    "print('Процентаж задержания рейсов: 0 - без задержек, 1 - задержали')\n",
    "print(procentage)"
   ]
  },
  {
   "cell_type": "code",
   "execution_count": 13,
   "metadata": {},
   "outputs": [
    {
     "data": {
      "text/plain": [
       "<matplotlib.legend.Legend at 0x24356ee3088>"
      ]
     },
     "execution_count": 13,
     "metadata": {},
     "output_type": "execute_result"
    },
    {
     "data": {
      "image/png": "[encoded data removed]",
      "text/plain": [
       "<Figure size 720x432 with 1 Axes>"
      ]
     },
     "metadata": {
      "needs_background": "light"
     },
     "output_type": "display_data"
    }
   ],
   "source": [
    "plt.hist(df_delay.Month,bins=12, color=Ycol,histtype=\"step\",label=\"delay\",density=True)\n",
    "plt.hist(df_nodelay.Month,bins=12, color=Ncol,histtype=\"step\",label=\"no delay\",density=True)\n",
    "plt.xlabel(\"Month\", fontsize=20)\n",
    "plt.xlim([1,12])\n",
    "plt.legend(prop={'size': 10},loc=\"upper left\")"
   ]
  },
  {
   "cell_type": "code",
   "execution_count": 14,
   "metadata": {},
   "outputs": [
    {
     "data": {
      "text/plain": [
       "<matplotlib.legend.Legend at 0x24356f5fc88>"
      ]
     },
     "execution_count": 14,
     "metadata": {},
     "output_type": "execute_result"
    },
    {
     "data": {
      "image/png": "[encoded data removed]",
      "text/plain": [
       "<Figure size 720x432 with 1 Axes>"
      ]
     },
     "metadata": {
      "needs_background": "light"
     },
     "output_type": "display_data"
    }
   ],
   "source": [
    "plt.hist(df_delay.DayofMonth,bins=31,range=[0.5,31.5],color=Ycol,histtype=\"step\",label=\"delay\",density=True)\n",
    "plt.hist(df_nodelay.DayofMonth,bins=31,range=[0.4,31.4],color=Ncol,histtype=\"step\",label=\"no delay\",density=True)\n",
    "plt.xlabel(\"Day of Month\", fontsize=20)\n",
    "plt.xlim(0.5,31.5)\n",
    "plt.ylim(0.0,0.05)\n",
    "plt.legend(prop={'size': 10},loc=\"upper right\")"
   ]
  },
  {
   "cell_type": "code",
   "execution_count": 15,
   "metadata": {
    "scrolled": false
   },
   "outputs": [
    {
     "data": {
      "text/plain": [
       "<matplotlib.legend.Legend at 0x24356fd05c8>"
      ]
     },
     "execution_count": 15,
     "metadata": {},
     "output_type": "execute_result"
    },
    {
     "data": {
      "image/png": "[encoded data removed]",
      "text/plain": [
       "<Figure size 720x432 with 1 Axes>"
      ]
     },
     "metadata": {
      "needs_background": "light"
     },
     "output_type": "display_data"
    }
   ],
   "source": [
    "plt.hist(df_delay.DayOfWeek,bins=7,range=[0.5,7.5], color=Ycol,histtype=\"step\",label=\"delay\",density=True)\n",
    "plt.hist(df_nodelay.DayOfWeek,bins=7,range=[0.4,7.4], color=Ncol,histtype=\"step\",label=\"no delay\",density=True)\n",
    "plt.xlabel(\"Day of Week\", fontsize=20)\n",
    "plt.xlim(0.5,7.6)\n",
    "plt.ylim(0.0,0.25)\n",
    "plt.legend(prop={'size': 10},loc=\"upper right\")"
   ]
  },
  {
   "cell_type": "code",
   "execution_count": 16,
   "metadata": {},
   "outputs": [
    {
     "data": {
      "text/plain": [
       "<matplotlib.legend.Legend at 0x2435746ce88>"
      ]
     },
     "execution_count": 16,
     "metadata": {},
     "output_type": "execute_result"
    },
    {
     "data": {
      "image/png": "[encoded data removed]",
      "text/plain": [
       "<Figure size 720x432 with 1 Axes>"
      ]
     },
     "metadata": {
      "needs_background": "light"
     },
     "output_type": "display_data"
    }
   ],
   "source": [
    "plt.hist(df_delay.DepTime,bins=24,range=[0,2400],color=Ycol,histtype=\"step\",label=\"delay\",density=True)\n",
    "plt.hist(df_nodelay.DepTime,bins=24,range=[0,2400],color=Ncol,histtype=\"step\",label=\"no delay\",density=True)\n",
    "plt.xlabel(\"Departure Time\", fontsize=20)\n",
    "plt.legend(prop={'size': 10},loc=\"upper right\")"
   ]
  },
  {
   "cell_type": "code",
   "execution_count": 17,
   "metadata": {
    "scrolled": false
   },
   "outputs": [
    {
     "data": {
      "text/plain": [
       "<matplotlib.legend.Legend at 0x243574d9b48>"
      ]
     },
     "execution_count": 17,
     "metadata": {},
     "output_type": "execute_result"
    },
    {
     "data": {
      "image/png": "[encoded data removed]",
      "text/plain": [
       "<Figure size 720x432 with 1 Axes>"
      ]
     },
     "metadata": {
      "needs_background": "light"
     },
     "output_type": "display_data"
    }
   ],
   "source": [
    "plt.hist(df_delay.Distance,bins=50, color=Ycol,histtype=\"step\",label=\"delay\",density=True)\n",
    "plt.hist(df_nodelay.Distance,bins=50, color=Ncol,histtype=\"step\",label=\"no delay\",density=True)\n",
    "plt.xlabel(\"Distance\", fontsize=20)\n",
    "plt.legend(prop={'size': 10},loc=\"upper right\")"
   ]
  },
  {
   "cell_type": "code",
   "execution_count": 18,
   "metadata": {},
   "outputs": [],
   "source": [
    "# bins      = np.arange(len(airlines))\n",
    "# heights   = df.groupby([\"UniqueCarrier\",\"dep_delayed_15min\"]).size()\n",
    "# mulind    = pd.MultiIndex.from_product([airlines, [False, True]])\n",
    "# heights   = heights.reindex(mulind).replace(np.nan, 0)\n",
    "# heights1  = [heights[carrier,True] for carrier in airlines]\n",
    "# heights1  = [float(height)/sum(heights1) for height in heights1]\n",
    "# heights2  = [heights[carrier,False] for carrier in airlines]\n",
    "# heights2  = [float(height)/sum(heights2) for height in heights2]\n",
    "# plt.bar(bins,heights1,align=\"center\",edgecolor=Ycol,color=[\"none\"],label=\"delay\")\n",
    "# plt.bar(bins-0.05,heights2,align=\"center\",edgecolor=Ncol,color=[\"none\"],label=\"no delay\")\n",
    "# plt.xlabel(\"Авиакомпании\",fontsize=13)\n",
    "# plt.xticks(bins)\n",
    "# plt.xlim([-0.5,21.5])\n",
    "# plt.legend(prop={'size': 10},loc=\"upper left\")"
   ]
  },
  {
   "cell_type": "code",
   "execution_count": 19,
   "metadata": {},
   "outputs": [
    {
     "name": "stdout",
     "output_type": "stream",
     "text": [
      "               Month     DayofMonth     DayOfWeek        DepTime  \\\n",
      "count  100000.000000  100000.000000  100000.00000  100000.000000   \n",
      "mean        6.537640      15.703850       3.95183    1341.523880   \n",
      "std         3.413447       8.793931       1.99164     476.378445   \n",
      "min         1.000000       1.000000       1.00000       1.000000   \n",
      "25%         4.000000       8.000000       2.00000     931.000000   \n",
      "50%         7.000000      16.000000       4.00000    1330.000000   \n",
      "75%         9.000000      23.000000       6.00000    1733.000000   \n",
      "max        12.000000      31.000000       7.00000    2534.000000   \n",
      "\n",
      "           Distance  dep_delayed_15min  UniqueCarrier_AA  UniqueCarrier_AQ  \\\n",
      "count  100000.00000       100000.00000      100000.00000     100000.000000   \n",
      "mean      729.39716            0.19044           0.09418          0.002340   \n",
      "std       574.61686            0.39265           0.29208          0.048317   \n",
      "min        30.00000            0.00000           0.00000          0.000000   \n",
      "25%       317.00000            0.00000           0.00000          0.000000   \n",
      "50%       575.00000            0.00000           0.00000          0.000000   \n",
      "75%       957.00000            0.00000           0.00000          0.000000   \n",
      "max      4962.00000            1.00000           1.00000          1.000000   \n",
      "\n",
      "       UniqueCarrier_AS  UniqueCarrier_B6  ...       Dest_TYS       Dest_VCT  \\\n",
      "count     100000.000000     100000.000000  ...  100000.000000  100000.000000   \n",
      "mean           0.022220          0.018380  ...       0.001900       0.000010   \n",
      "std            0.147399          0.134322  ...       0.043548       0.003162   \n",
      "min            0.000000          0.000000  ...       0.000000       0.000000   \n",
      "25%            0.000000          0.000000  ...       0.000000       0.000000   \n",
      "50%            0.000000          0.000000  ...       0.000000       0.000000   \n",
      "75%            0.000000          0.000000  ...       0.000000       0.000000   \n",
      "max            1.000000          1.000000  ...       1.000000       1.000000   \n",
      "\n",
      "            Dest_VIS       Dest_VLD       Dest_VPS       Dest_WRG  \\\n",
      "count  100000.000000  100000.000000  100000.000000  100000.000000   \n",
      "mean        0.000070       0.000170       0.000990       0.000110   \n",
      "std         0.008366       0.013037       0.031449       0.010488   \n",
      "min         0.000000       0.000000       0.000000       0.000000   \n",
      "25%         0.000000       0.000000       0.000000       0.000000   \n",
      "50%         0.000000       0.000000       0.000000       0.000000   \n",
      "75%         0.000000       0.000000       0.000000       0.000000   \n",
      "max         1.000000       1.000000       1.000000       1.000000   \n",
      "\n",
      "            Dest_WYS       Dest_XNA       Dest_YAK       Dest_YUM  \n",
      "count  100000.000000  100000.000000  100000.000000  100000.000000  \n",
      "mean        0.000040       0.001810       0.000130       0.000320  \n",
      "std         0.006324       0.042506       0.011401       0.017886  \n",
      "min         0.000000       0.000000       0.000000       0.000000  \n",
      "25%         0.000000       0.000000       0.000000       0.000000  \n",
      "50%         0.000000       0.000000       0.000000       0.000000  \n",
      "75%         0.000000       0.000000       0.000000       0.000000  \n",
      "max         1.000000       1.000000       1.000000       1.000000  \n",
      "\n",
      "[8 rows x 606 columns]\n"
     ]
    }
   ],
   "source": [
    "df2 = pd.get_dummies(df,drop_first=False)\n",
    "print(df2.describe(include=\"all\"))"
   ]
  },
  {
   "cell_type": "code",
   "execution_count": 20,
   "metadata": {},
   "outputs": [
    {
     "name": "stdout",
     "output_type": "stream",
     "text": [
      "Training set size: 70000, test set size: 30000, total: 100000\n"
     ]
    }
   ],
   "source": [
    "# Из пандас датафрейма превращает в нумпай матрицу\n",
    "features = df2.columns.values.tolist()\n",
    "features.remove(\"dep_delayed_15min\")\n",
    "X = df2.as_matrix(columns=features)\n",
    "Y = np.array([int(i) for i in df2[\"dep_delayed_15min\"].tolist()])\n",
    "\n",
    "# Create training and test sets, with desired proportions.\n",
    "X_train, X_test, y_train, y_test = train_test_split(X, Y, test_size=0.3)\n",
    "\n",
    "print(\"Training set size: %i, test set size: %i, total: %i\" %(len(y_train),len(y_test),len(Y)))"
   ]
  },
  {
   "cell_type": "code",
   "execution_count": 21,
   "metadata": {},
   "outputs": [
    {
     "name": "stdout",
     "output_type": "stream",
     "text": [
      "Wall time: 40.2 s\n",
      "Средняя точность на Тренировочных данных: 0.67\n",
      "Средняя точность на Тестовых данных: 0.6289666666666667\n"
     ]
    }
   ],
   "source": [
    "from sklearn.ensemble import RandomForestClassifier\n",
    "\n",
    "rf2 = RandomForestClassifier(n_estimators=50, max_depth=20, class_weight=\"balanced_subsample\")\n",
    "\n",
    "%time rf2.fit(X_train, y_train)\n",
    "\n",
    "print(\"Средняя точность на Тренировочных данных: %s\" %rf2.score(X_train, y_train))\n",
    "print(\"Средняя точность на Тестовых данных: %s\" %rf2.score(X_test, y_test))"
   ]
  },
  {
   "cell_type": "code",
   "execution_count": 22,
   "metadata": {
    "scrolled": false
   },
   "outputs": [
    {
     "name": "stdout",
     "output_type": "stream",
     "text": [
      "Количество тестовых строк = 30000\n",
      "Количество тестовых строк, где dep_delayed_15min равен единице = 5714\n",
      "Задержек в Training: 13330, Без задержек: 56670\n",
      "Задержек в Testing: 5714, Без задержек: 24286\n"
     ]
    },
    {
     "data": {
      "image/png": "[encoded data removed]",
      "text/plain": [
       "<Figure size 720x360 with 1 Axes>"
      ]
     },
     "metadata": {
      "needs_background": "light"
     },
     "output_type": "display_data"
    }
   ],
   "source": [
    "print('Количество тестовых строк = %i' %len(y_test))\n",
    "print('Количество тестовых строк, где dep_delayed_15min равен единице = %i' %(len([val for val in y_test if val])))\n",
    "\n",
    "y_test_pred    = [p2 for [p1,p2] in rf2.predict_proba(X_test)]\n",
    "y_train_pred   = [p2 for [p1,p2] in rf2.predict_proba(X_train)]\n",
    "\n",
    "importances = rf2.feature_importances_\n",
    "indices     = np.argsort(importances)[::-1]\n",
    "n_features  = min(20,indices.size)\n",
    "bins        = np.arange(n_features)\n",
    "x_labels    = np.array(features)[indices][0:n_features]\n",
    "\n",
    "fig, axes   = plt.subplots(nrows=1, ncols=1, figsize=(10, 5))\n",
    "plt.suptitle(\"Важные зависимости\", fontsize=15)\n",
    "axes.bar(bins, importances[indices][:n_features], color=\"red\", alpha=0.6)\n",
    "axes.set_xticks(bins)\n",
    "axes.set_xticklabels(x_labels, ha=\"right\", rotation=45.)\n",
    "axes.set_xlim([-0.5,bins.size-0.5])\n",
    "\n",
    "\n",
    "# Histogram random forest output probabilities\n",
    "y_train_pred_1 = [pred for (pred,truth) in zip(y_train_pred,y_train) if truth==1]\n",
    "y_train_pred_0 = [pred for (pred,truth) in zip(y_train_pred,y_train) if truth==0]\n",
    "y_test_pred_1  = [pred for (pred,truth) in zip(y_test_pred,y_test) if truth==1]\n",
    "y_test_pred_0  = [pred for (pred,truth) in zip(y_test_pred,y_test) if truth==0]\n",
    "print(\"Задержек в Training: %i, Без задержек: %i\" %(len(y_train_pred_1),len(y_train_pred_0)))\n",
    "print(\"Задержек в Testing: %i, Без задержек: %i\" %(len(y_test_pred_1),len(y_test_pred_0)))"
   ]
  },
  {
   "cell_type": "code",
   "execution_count": 38,
   "metadata": {},
   "outputs": [
    {
     "data": {
      "text/plain": [
       "[0.5674787549061058,\n",
       " 0.39977602089982417,\n",
       " 0.47502551347389754,\n",
       " 0.5401825060244885,\n",
       " 0.5428736776580617,\n",
       " 0.4136160467353355,\n",
       " 0.35136325908784144,\n",
       " 0.3727187931310715,\n",
       " 0.34661456489881226,\n",
       " 0.39806182517225525,\n",
       " 0.3365633147440996,\n",
       " 0.40285556998405103,\n",
       " 0.35968243419768564,\n",
       " 0.3507265428101979,\n",
       " 0.5154660706131923,\n",
       " 0.5391660291491445,\n",
       " 0.3249613961851384,\n",
       " 0.5413906352261804,\n",
       " 0.4695517488674167,\n",
       " 0.5125093744119361,\n",
       " 0.3212829535942569,\n",
       " 0.38111501498424255,\n",
       " 0.42930850015060207,\n",
       " 0.29222610358486123,\n",
       " 0.3392667553555886,\n",
       " 0.4694545320407862,\n",
       " 0.34598367371947136,\n",
       " 0.3330310428227228,\n",
       " 0.5136514055227496,\n",
       " 0.5624669705280787,\n",
       " 0.4141752455908863,\n",
       " 0.5287353970767957,\n",
       " 0.628668332665691,\n",
       " 0.6022899456086617,\n",
       " 0.4872030673621628,\n",
       " 0.4844835908128266,\n",
       " 0.3343054564690483,\n",
       " 0.5567505279091507,\n",
       " 0.5793759164651511,\n",
       " 0.31904370398820625,\n",
       " 0.5750215050674337,\n",
       " 0.5924665232708509,\n",
       " 0.3624647567969309,\n",
       " 0.5869662573846622,\n",
       " 0.4180588206870782,\n",
       " 0.11755712257737161,\n",
       " 0.36779857618342393,\n",
       " 0.5304075145230605,\n",
       " 0.34049256821134405,\n",
       " 0.45297050336340605,\n",
       " 0.5527692145325354,\n",
       " 0.5785212971815262,\n",
       " 0.334138791669795,\n",
       " 0.3828277959872563,\n",
       " 0.48114210907198063,\n",
       " 0.5435419178411268,\n",
       " 0.38156745628454003,\n",
       " 0.3671967551924966,\n",
       " 0.33234176203972327,\n",
       " 0.5522069810126647,\n",
       " 0.4653101887877124,\n",
       " 0.4018217562938488,\n",
       " 0.5358927608159969,\n",
       " 0.27692668379146845,\n",
       " 0.29277550620474313,\n",
       " 0.501926872181087,\n",
       " 0.554702255596175,\n",
       " 0.3556450480860391,\n",
       " 0.532468205363498,\n",
       " 0.34509381732772,\n",
       " 0.5895379000962224,\n",
       " 0.3284328223444646,\n",
       " 0.5363862350327785,\n",
       " 0.5306581726208399,\n",
       " 0.45812646685504527,\n",
       " 0.49395913820971316,\n",
       " 0.5579836331303832,\n",
       " 0.6231130697148827,\n",
       " 0.5364712137309634,\n",
       " 0.3504752053556407,\n",
       " 0.5344174631632364,\n",
       " 0.27593680737270987,\n",
       " 0.3033976557982626,\n",
       " 0.5091788152588121,\n",
       " 0.3442423016607228,\n",
       " 0.24543828126765213,\n",
       " 0.5559730746597853,\n",
       " 0.5247222278068624,\n",
       " 0.5659718037133458,\n",
       " 0.4683646116234279,\n",
       " 0.3451711516613895,\n",
       " 0.3140209053437863,\n",
       " 0.5794794002776844,\n",
       " 0.4182137416503641,\n",
       " 0.5806892898332516,\n",
       " 0.3541793333237899,\n",
       " 0.5155411644819737,\n",
       " 0.40893171986423615,\n",
       " 0.3397760832372878,\n",
       " 0.37628860911360595,\n",
       " 0.35258332883975946,\n",
       " 0.5114100311856042,\n",
       " 0.4056739746677442,\n",
       " 0.507194388597109,\n",
       " 0.3659435232194221,\n",
       " 0.4223725476091009,\n",
       " 0.3295404287408195,\n",
       " 0.5714843801349032,\n",
       " 0.375173132758801,\n",
       " 0.5566289839801745,\n",
       " 0.3774541907914344,\n",
       " 0.3568915447496092,\n",
       " 0.5162546442903834,\n",
       " 0.3847930531504272,\n",
       " 0.3605892334683157,\n",
       " 0.4375940399742187,\n",
       " 0.5797922966534823,\n",
       " 0.4988439064684849,\n",
       " 0.6551219374075861,\n",
       " 0.3947000689792369,\n",
       " 0.4522594766065102,\n",
       " 0.3109196089891547,\n",
       " 0.520622081809565,\n",
       " 0.3407837427796757,\n",
       " 0.34829633126541226,\n",
       " 0.33005620126599367,\n",
       " 0.4677426814581327,\n",
       " 0.5080350273887556,\n",
       " 0.3035479335301526,\n",
       " 0.34769643698750996,\n",
       " 0.41961412707317136,\n",
       " 0.33337287436060004,\n",
       " 0.33560763658213183,\n",
       " 0.36161562369463257,\n",
       " 0.4957918453078839,\n",
       " 0.31525869673968254,\n",
       " 0.19748390182905987,\n",
       " 0.3096622023686741,\n",
       " 0.5982059296345126,\n",
       " 0.3196199852044366,\n",
       " 0.5722158563769193,\n",
       " 0.5261056149549763,\n",
       " 0.3109253283520759,\n",
       " 0.5261060345407101,\n",
       " 0.5800068976896917,\n",
       " 0.37924151919560617,\n",
       " 0.49819257176365495,\n",
       " 0.5419206540972822,\n",
       " 0.5729294192066375,\n",
       " 0.4825861346824226,\n",
       " 0.575303983379105,\n",
       " 0.5342698469452793,\n",
       " 0.5343698331693216,\n",
       " 0.6078467482973394,\n",
       " 0.3903362745559695,\n",
       " 0.33204066567770574,\n",
       " 0.5316947242979538,\n",
       " 0.5214143547235313,\n",
       " 0.38687106747137917,\n",
       " 0.5613573927972818,\n",
       " 0.4952025938534444,\n",
       " 0.33838858523669996,\n",
       " 0.3469430800944569,\n",
       " 0.5346383592310314,\n",
       " 0.5329170551825674,\n",
       " 0.5327670752269386,\n",
       " 0.40896609831977204,\n",
       " 0.506694701207529,\n",
       " 0.3653159543642823,\n",
       " 0.3965406980026507,\n",
       " 0.5683924819740237,\n",
       " 0.5094216642925453,\n",
       " 0.5442095739164654,\n",
       " 0.5556823789329749,\n",
       " 0.5008604429584248,\n",
       " 0.5393597211022305,\n",
       " 0.5985525530621871,\n",
       " 0.3091856546116552,\n",
       " 0.5759883049143595,\n",
       " 0.3177936132316741,\n",
       " 0.5039376999214081,\n",
       " 0.3079928573083064,\n",
       " 0.6385714700601305,\n",
       " 0.5880117111133301,\n",
       " 0.6095416504891495,\n",
       " 0.4261745919510833,\n",
       " 0.5550310408933086,\n",
       " 0.5927504717750618,\n",
       " 0.32535950531014385,\n",
       " 0.48726730155822795,\n",
       " 0.4103724442943897,\n",
       " 0.46338275631005343,\n",
       " 0.43144844699349,\n",
       " 0.49017801895683455,\n",
       " 0.355261569387906,\n",
       " 0.5133785150235841,\n",
       " 0.4938306465197511,\n",
       " 0.4781767720573461,\n",
       " 0.2862778864382141,\n",
       " 0.5910059284200664,\n",
       " 0.3646571547806074,\n",
       " 0.3702515514036046,\n",
       " 0.4736763146115673,\n",
       " 0.13188607429640992,\n",
       " 0.375339771526755,\n",
       " 0.4348777871007459,\n",
       " 0.28774592634312723,\n",
       " 0.5474715613482583,\n",
       " 0.5762241428857469,\n",
       " 0.4228939173749036,\n",
       " 0.49439470827312776,\n",
       " 0.3242971264386978,\n",
       " 0.5811792358210248,\n",
       " 0.4790967074558198,\n",
       " 0.33302853107109565,\n",
       " 0.555251755397528,\n",
       " 0.5840627424868048,\n",
       " 0.6199405988618947,\n",
       " 0.4681443208478339,\n",
       " 0.34275010273001627,\n",
       " 0.5168178413020605,\n",
       " 0.4453870624100476,\n",
       " 0.4793240835815923,\n",
       " 0.5344788978520093,\n",
       " 0.5792011154582836,\n",
       " 0.2925694661573776,\n",
       " 0.4078895322785527,\n",
       " 0.3409481732541927,\n",
       " 0.47963392206795596,\n",
       " 0.4177336280658014,\n",
       " 0.4591917535782972,\n",
       " 0.48913362245257164,\n",
       " 0.47666522292876756,\n",
       " 0.2875477405357511,\n",
       " 0.40314075607211924,\n",
       " 0.4340437182500697,\n",
       " 0.3811179917102171,\n",
       " 0.41780348258835853,\n",
       " 0.3390363897606481,\n",
       " 0.5988938285506475,\n",
       " 0.35773410408763234,\n",
       " 0.32281409117124354,\n",
       " 0.3127076768567422,\n",
       " 0.5497509329170562,\n",
       " 0.3682061814390487,\n",
       " 0.3084175504899097,\n",
       " 0.45758699532545416,\n",
       " 0.48971172212041303,\n",
       " 0.60140000228022,\n",
       " 0.30744307258419,\n",
       " 0.36130113084562415,\n",
       " 0.6201257711766817,\n",
       " 0.3221652754573851,\n",
       " 0.32500916907009264,\n",
       " 0.5770129317588336,\n",
       " 0.5927407067803567,\n",
       " 0.5362195552023544,\n",
       " 0.38089244201921246,\n",
       " 0.5671734193727829,\n",
       " 0.4415907908918011,\n",
       " 0.5691075373480468,\n",
       " 0.2973776802277967,\n",
       " 0.3839281467813084,\n",
       " 0.4225698232287901,\n",
       " 0.5460345408488637,\n",
       " 0.3680237472186,\n",
       " 0.49284458483985794,\n",
       " 0.5360942862784258,\n",
       " 0.563692767589036,\n",
       " 0.5782116172618288,\n",
       " 0.3223824911546047,\n",
       " 0.4833363118438171,\n",
       " 0.5246201448221316,\n",
       " 0.4020447842449996,\n",
       " 0.342318736412013,\n",
       " 0.5263026914606367,\n",
       " 0.5930855336656727,\n",
       " 0.5382039371671281,\n",
       " 0.45081784085197696,\n",
       " 0.5054021408570785,\n",
       " 0.4311863174907199,\n",
       " 0.33965718454385135,\n",
       " 0.3485199268714308,\n",
       " 0.4306922584558533,\n",
       " 0.35759366885038707,\n",
       " 0.29548952812552143,\n",
       " 0.6195513246123228,\n",
       " 0.5978508402974625,\n",
       " 0.3794845647732451,\n",
       " 0.3355853264898241,\n",
       " 0.5217033616675664,\n",
       " 0.5186182607311797,\n",
       " 0.5029705837007382,\n",
       " 0.5219591107744896,\n",
       " 0.5468971643464715,\n",
       " 0.488058610371517,\n",
       " 0.5802703346449075,\n",
       " 0.588839212485848,\n",
       " 0.4535700640112972,\n",
       " 0.5566599351598589,\n",
       " 0.5214775912103629,\n",
       " 0.6645065139137047,\n",
       " 0.42858858202385686,\n",
       " 0.5773380444145978,\n",
       " 0.43189444689853984,\n",
       " 0.5601527601354075,\n",
       " 0.4669834852518514,\n",
       " 0.4859647957715182,\n",
       " 0.3589000090006917,\n",
       " 0.1442880184933658,\n",
       " 0.5575980243504255,\n",
       " 0.32464467473470826,\n",
       " 0.6744382468759242,\n",
       " 0.5426627979113902,\n",
       " 0.3491172702401496,\n",
       " 0.30630075617662295,\n",
       " 0.5523804746667448,\n",
       " 0.5283228516304511,\n",
       " 0.2881819393669852,\n",
       " 0.49253185081258105,\n",
       " 0.3184044280947258,\n",
       " 0.1789509543465656,\n",
       " 0.5598604506580425,\n",
       " 0.5396997359243583,\n",
       " 0.48081467393787525,\n",
       " 0.5132494381676151,\n",
       " 0.38407267297853664,\n",
       " 0.5164194776665799,\n",
       " 0.3309466232750712,\n",
       " 0.5406664511041486,\n",
       " 0.32628990324155566,\n",
       " 0.386552380168488,\n",
       " 0.5672181196819917,\n",
       " 0.30973154695607613,\n",
       " 0.31465025243647027,\n",
       " 0.35713073753205726,\n",
       " 0.5945983187292982,\n",
       " 0.46741738904699515,\n",
       " 0.3472525321243753,\n",
       " 0.5125680928692505,\n",
       " 0.5301589354544809,\n",
       " 0.3277712847129728,\n",
       " 0.5407019891715166,\n",
       " 0.1613491494752147,\n",
       " 0.5180860031867273,\n",
       " 0.6660113789380422,\n",
       " 0.5635137438317878,\n",
       " 0.3612522287699693,\n",
       " 0.45674241685869577,\n",
       " 0.38490091049796943,\n",
       " 0.357119406893614,\n",
       " 0.44366944753002086,\n",
       " 0.5429602730470439,\n",
       " 0.31283069884507503,\n",
       " 0.5419687929265411,\n",
       " 0.34832031167426214,\n",
       " 0.3671370881439777,\n",
       " 0.5514920226718047,\n",
       " 0.3571586716831375,\n",
       " 0.21428892729170165,\n",
       " 0.3215316813720608,\n",
       " 0.32619497433030664,\n",
       " 0.364749536404081,\n",
       " 0.5870181378285187,\n",
       " 0.31039542717891033,\n",
       " 0.5084344095086021,\n",
       " 0.3417984399216843,\n",
       " 0.4544549855570383,\n",
       " 0.3186605076379749,\n",
       " 0.4985464746591214,\n",
       " 0.32501678121068617,\n",
       " 0.4293272030018273,\n",
       " 0.31973768891427284,\n",
       " 0.37833115896289826,\n",
       " 0.3883702233193298,\n",
       " 0.38692541826885685,\n",
       " 0.381869111383093,\n",
       " 0.4912668083815033,\n",
       " 0.554002444209277,\n",
       " 0.5762047207616704,\n",
       " 0.5511773180283652,\n",
       " 0.5535777348817839,\n",
       " 0.3422990028855104,\n",
       " 0.6576069200570666,\n",
       " 0.5314485489320977,\n",
       " 0.3264467733850569,\n",
       " 0.44169159238404126,\n",
       " 0.11777018218360481,\n",
       " 0.5323501434936899,\n",
       " 0.43207888328023786,\n",
       " 0.4562410278192197,\n",
       " 0.46407934044689325,\n",
       " 0.5463524829985976,\n",
       " 0.5070615429745022,\n",
       " 0.5583243549360187,\n",
       " 0.4415806648597615,\n",
       " 0.5107989934306343,\n",
       " 0.3396281723241171,\n",
       " 0.5319034303897244,\n",
       " 0.4715475614720572,\n",
       " 0.5514499244216303,\n",
       " 0.4816195626117247,\n",
       " 0.5960443092410064,\n",
       " 0.33098477140002885,\n",
       " 0.37759998455278665,\n",
       " 0.3110402425244105,\n",
       " 0.5382566254122526,\n",
       " 0.34698747238925665,\n",
       " 0.5673953127147473,\n",
       " 0.5516152138573337,\n",
       " 0.4109629332752234,\n",
       " 0.3143065493237559,\n",
       " 0.5115690213703548,\n",
       " 0.5636062866859533,\n",
       " 0.4380909145854765,\n",
       " 0.4448759573423427,\n",
       " 0.46034298749747876,\n",
       " 0.5315917693391355,\n",
       " 0.5270268446998362,\n",
       " 0.3323828412944351,\n",
       " 0.30734425847571584,\n",
       " 0.6224233612540274,\n",
       " 0.3449532147055996,\n",
       " 0.4886385364668223,\n",
       " 0.5017846215821689,\n",
       " 0.5551064132753899,\n",
       " 0.5128355535501111,\n",
       " 0.5696915694935215,\n",
       " 0.3415027464150142,\n",
       " 0.42805473133289174,\n",
       " 0.30334892086696674,\n",
       " 0.49143487852220047,\n",
       " 0.3521748755121441,\n",
       " 0.5484175713623557,\n",
       " 0.39480895542963873,\n",
       " 0.5259061873072985,\n",
       " 0.47462457169849626,\n",
       " 0.49590654799572825,\n",
       " 0.3925086382634894,\n",
       " 0.5343112706486702,\n",
       " 0.314183188162685,\n",
       " 0.4180849909854612,\n",
       " 0.5675990407072036,\n",
       " 0.33192100551071746,\n",
       " 0.3075985095727672,\n",
       " 0.4788690569232915,\n",
       " 0.4943887635992138,\n",
       " 0.35081207061406083,\n",
       " 0.48690263220254487,\n",
       " 0.5011599975748641,\n",
       " 0.5633808819043492,\n",
       " 0.552868856592069,\n",
       " 0.47813862462942114,\n",
       " 0.644730169727306,\n",
       " 0.5115050826018631,\n",
       " 0.48640468316947105,\n",
       " 0.45962168530795033,\n",
       " 0.3257590385688898,\n",
       " 0.5651451634825118,\n",
       " 0.523801246471155,\n",
       " 0.5622112636599739,\n",
       " 0.32329826763904584,\n",
       " 0.5225089629901012,\n",
       " 0.48801403073641614,\n",
       " 0.3230490895150772,\n",
       " 0.5298248429340117,\n",
       " 0.49100568623997837,\n",
       " 0.46238931177197423,\n",
       " 0.574693147446704,\n",
       " 0.5074838596336134,\n",
       " 0.40769362890600364,\n",
       " 0.5256379509840408,\n",
       " 0.5657003239469152,\n",
       " 0.3490253192030137,\n",
       " 0.48473858808610226,\n",
       " 0.5742152181022627,\n",
       " 0.5402819612395118,\n",
       " 0.3472363373207798,\n",
       " 0.5300725251522331,\n",
       " 0.3591943449005582,\n",
       " 0.6110840582766791,\n",
       " 0.4309975285704386,\n",
       " 0.5662183517184465,\n",
       " 0.5139454055297452,\n",
       " 0.5521957797253898,\n",
       " 0.4327750408973143,\n",
       " 0.5483654949522851,\n",
       " 0.5864037763372212,\n",
       " 0.5983611061047915,\n",
       " 0.5668189992128565,\n",
       " 0.3533471877818925,\n",
       " 0.3675422899735314,\n",
       " 0.5725327125929174,\n",
       " 0.5337416305114904,\n",
       " 0.5852831750951585,\n",
       " 0.36728385196161883,\n",
       " 0.3316053694062317,\n",
       " 0.5614739126948494,\n",
       " 0.5187157075646911,\n",
       " 0.3621087023406041,\n",
       " 0.4652078365628153,\n",
       " 0.5404352631299869,\n",
       " 0.5755820232706458,\n",
       " 0.5430323914543125,\n",
       " 0.49321114681833883,\n",
       " 0.5351785981891143,\n",
       " 0.4440252886637895,\n",
       " 0.29897267145433154,\n",
       " 0.33960602412309754,\n",
       " 0.29661378846462033,\n",
       " 0.35654820044061686,\n",
       " 0.3080830338733366,\n",
       " 0.3330421850554546,\n",
       " 0.37156497248147213,\n",
       " 0.5200416011370418,\n",
       " 0.33102460006521417,\n",
       " 0.4968959824543779,\n",
       " 0.564693909602055,\n",
       " 0.5004983554576329,\n",
       " 0.3544975548538483,\n",
       " 0.5813851312084745,\n",
       " 0.5452160341802756,\n",
       " 0.5142241142167809,\n",
       " 0.3367209055183158,\n",
       " 0.383250882518147,\n",
       " 0.5364700171459965,\n",
       " 0.35588156382748026,\n",
       " 0.2850902361765755,\n",
       " 0.5784381451324588,\n",
       " 0.3271420555925769,\n",
       " 0.3969620111243322,\n",
       " 0.45006777779467844,\n",
       " 0.3717378456649572,\n",
       " 0.520008445319981,\n",
       " 0.2948511107949425,\n",
       " 0.29073758585906234,\n",
       " 0.5426846480519238,\n",
       " 0.33136700348401044,\n",
       " 0.5349301346770075,\n",
       " 0.5052410740659705,\n",
       " 0.5235660605156716,\n",
       " 0.4812731342568235,\n",
       " 0.6281117233212101,\n",
       " 0.5573130399298902,\n",
       " 0.4009042385093369,\n",
       " 0.5091250456152993,\n",
       " 0.5055249688321556,\n",
       " 0.3405439033279803,\n",
       " 0.35921038851842985,\n",
       " 0.3799508777275329,\n",
       " 0.5296822844829191,\n",
       " 0.42903156911052326,\n",
       " 0.358460986580457,\n",
       " 0.5300436979532666,\n",
       " 0.4262069694387054,\n",
       " 0.5328799157951175,\n",
       " 0.6050313853012207,\n",
       " 0.3413943917141537,\n",
       " 0.5873726803034098,\n",
       " 0.4838705724710421,\n",
       " 0.29424775021536653,\n",
       " 0.4817608069857235,\n",
       " 0.3236302880101669,\n",
       " 0.5793176170350618,\n",
       " 0.6747479258972828,\n",
       " 0.5314829270112846,\n",
       " 0.531802938677449,\n",
       " 0.5559712969941907,\n",
       " 0.5423708839978002,\n",
       " 0.38941635230216476,\n",
       " 0.590189494665834,\n",
       " 0.3112643258472687,\n",
       " 0.6231594962453382,\n",
       " 0.6052465730785506,\n",
       " 0.518193374250679,\n",
       " 0.48703369779380457,\n",
       " 0.5580060866636696,\n",
       " 0.5782682538392789,\n",
       " 0.3284621661014599,\n",
       " 0.28943630313385194,\n",
       " 0.5593514588818401,\n",
       " 0.3634143580597942,\n",
       " 0.4990057076811798,\n",
       " 0.3474670678094009,\n",
       " 0.37799307977024166,\n",
       " 0.6379960471247929,\n",
       " 0.5074166202804492,\n",
       " 0.3319472924263156,\n",
       " 0.3380379626573362,\n",
       " 0.5288865149783729,\n",
       " 0.6318512648127594,\n",
       " 0.503720519848191,\n",
       " 0.6329200856134468,\n",
       " 0.5303433162376091,\n",
       " 0.5149240459955964,\n",
       " 0.5184081515550096,\n",
       " 0.562132297745244,\n",
       " 0.5814813889706393,\n",
       " 0.5802175982351974,\n",
       " 0.38389788033798206,\n",
       " 0.29505448110893623,\n",
       " 0.33855238924282527,\n",
       " 0.48011152277039026,\n",
       " 0.339700795026784,\n",
       " 0.5323712754757121,\n",
       " 0.49246223777976106,\n",
       " 0.3645730565971902,\n",
       " 0.3779316919105463,\n",
       " 0.4399057786101595,\n",
       " 0.31184049406508035,\n",
       " 0.4181833655996857,\n",
       " 0.35797062174122446,\n",
       " 0.4721489413239157,\n",
       " 0.5629941707247494,\n",
       " 0.40731776498623395,\n",
       " 0.3200936533283672,\n",
       " 0.42936140744400075,\n",
       " 0.36097502595547815,\n",
       " 0.5309132243006993,\n",
       " 0.5354408401947796,\n",
       " 0.484034528875251,\n",
       " 0.5255374805676426,\n",
       " 0.47171038109845936,\n",
       " 0.31874672597421905,\n",
       " 0.5015727866549131,\n",
       " 0.35288565450469245,\n",
       " 0.2876510608474802,\n",
       " 0.49909939136533177,\n",
       " 0.4511593644459792,\n",
       " 0.37417613180309206,\n",
       " 0.5730933433712733,\n",
       " 0.46152896197852433,\n",
       " 0.45168988476832417,\n",
       " 0.6124960716517815,\n",
       " 0.46680756252907984,\n",
       " 0.5465605839655201,\n",
       " 0.5415015781926298,\n",
       " 0.3386543375770181,\n",
       " 0.46505497208236085,\n",
       " 0.5844334257767851,\n",
       " 0.45415515314064175,\n",
       " 0.32614871609667856,\n",
       " 0.5083809909889884,\n",
       " 0.579177706362783,\n",
       " 0.6212258499754743,\n",
       " 0.35715315779014156,\n",
       " 0.5367622597355635,\n",
       " 0.3412960370500921,\n",
       " 0.5116331607637978,\n",
       " 0.3038014696076534,\n",
       " 0.49407174031834783,\n",
       " 0.5771632451993788,\n",
       " 0.535253306681193,\n",
       " 0.41028190590142166,\n",
       " 0.5018082113232203,\n",
       " 0.5912937408195238,\n",
       " 0.5961202808366645,\n",
       " 0.47634440041067316,\n",
       " 0.49710895462255655,\n",
       " 0.369889231484036,\n",
       " 0.3049857101539132,\n",
       " 0.5254208620143197,\n",
       " 0.5082178936684769,\n",
       " 0.2806472088670984,\n",
       " 0.5950092103336863,\n",
       " 0.36262757124102635,\n",
       " 0.534757004088697,\n",
       " 0.4070696328636455,\n",
       " 0.5458135578376037,\n",
       " 0.36643907853287294,\n",
       " 0.49442074144863213,\n",
       " 0.5617434560354488,\n",
       " 0.46386448588999146,\n",
       " 0.4866465635692534,\n",
       " 0.34353296640885067,\n",
       " 0.31470384589905437,\n",
       " 0.429798549373159,\n",
       " 0.3280042239041488,\n",
       " 0.31042317273210523,\n",
       " 0.576163178630636,\n",
       " 0.48038191540203423,\n",
       " 0.5207302455684332,\n",
       " 0.28032711100025004,\n",
       " 0.40694910465836387,\n",
       " 0.317119038837891,\n",
       " 0.36844182296023287,\n",
       " 0.38764588076943973,\n",
       " 0.40190596121053396,\n",
       " 0.5828383552320792,\n",
       " 0.52374715090775,\n",
       " 0.5309811872343119,\n",
       " 0.3283165816243718,\n",
       " 0.6032941535812635,\n",
       " 0.5295530861238631,\n",
       " 0.5221722713868965,\n",
       " 0.49084014647882496,\n",
       " 0.3617350303876492,\n",
       " 0.627080720651431,\n",
       " 0.5473026403319854,\n",
       " 0.5624067349765478,\n",
       " 0.3448298825131753,\n",
       " 0.5326493584928663,\n",
       " 0.5272356519923977,\n",
       " 0.35754179497129635,\n",
       " 0.5819514469990652,\n",
       " 0.2761165467651043,\n",
       " 0.5538490887619587,\n",
       " 0.3822890716550871,\n",
       " 0.5069040646272032,\n",
       " 0.4616343497802638,\n",
       " 0.4809587905078838,\n",
       " 0.32917357586856155,\n",
       " 0.6050424821401958,\n",
       " 0.3141821642565623,\n",
       " 0.4907085500230148,\n",
       " 0.546013425569599,\n",
       " 0.6213022724630127,\n",
       " 0.36936696410800957,\n",
       " 0.5894347613042932,\n",
       " 0.35035685711060877,\n",
       " 0.35107633600221616,\n",
       " 0.4271927203135092,\n",
       " 0.5148308767994553,\n",
       " 0.5203871496518402,\n",
       " 0.5074464154691988,\n",
       " 0.5134052708088468,\n",
       " 0.3866208777436189,\n",
       " 0.5049533259825799,\n",
       " 0.5402681377146635,\n",
       " 0.33125631129036537,\n",
       " 0.6137906780457779,\n",
       " 0.4943190069711298,\n",
       " 0.6062912511865347,\n",
       " 0.540005572256712,\n",
       " 0.4080891076327277,\n",
       " 0.34828450453661597,\n",
       " 0.5408777980132213,\n",
       " 0.3483814781450558,\n",
       " 0.36148529428743464,\n",
       " 0.5260629254400222,\n",
       " 0.3549131567099991,\n",
       " 0.5513931149296476,\n",
       " 0.4191661842576861,\n",
       " 0.3689239860280271,\n",
       " 0.39612935347677175,\n",
       " 0.4654275469142115,\n",
       " 0.3137256917202357,\n",
       " 0.30870556005694355,\n",
       " 0.53666643202727,\n",
       " 0.5069793408840118,\n",
       " 0.31566473969868397,\n",
       " 0.3146934284767828,\n",
       " 0.3841050265364703,\n",
       " 0.31923811100972493,\n",
       " 0.30975293077015226,\n",
       " 0.49743545211130874,\n",
       " 0.49040476949097417,\n",
       " 0.5002569652945987,\n",
       " 0.30030082578976974,\n",
       " 0.32380560043158596,\n",
       " 0.5683735529236259,\n",
       " 0.499203310954206,\n",
       " 0.36226410976694623,\n",
       " 0.46807721379010986,\n",
       " 0.5322978712511872,\n",
       " 0.3202314358190897,\n",
       " 0.36549911375757044,\n",
       " 0.31861245094082197,\n",
       " 0.3562313075229885,\n",
       " 0.3834366518013164,\n",
       " 0.3353326609146021,\n",
       " 0.5654393565473061,\n",
       " 0.48494975966835385,\n",
       " 0.581571911707951,\n",
       " 0.5944137676612972,\n",
       " 0.38034398461544106,\n",
       " 0.5374756904913955,\n",
       " 0.3217294889166385,\n",
       " 0.4143359319349726,\n",
       " 0.46083780911699423,\n",
       " 0.3725484837515329,\n",
       " 0.34890168997643833,\n",
       " 0.5125672447723918,\n",
       " 0.30999912812795705,\n",
       " 0.4293872990840175,\n",
       " 0.3127969416260731,\n",
       " 0.34593709206014434,\n",
       " 0.5035175722452331,\n",
       " 0.48868666169590247,\n",
       " 0.5666850694077042,\n",
       " 0.3268574129436847,\n",
       " 0.3069185965815533,\n",
       " 0.4042593403841285,\n",
       " 0.3543059065319841,\n",
       " 0.3940957119260964,\n",
       " 0.30679508732118177,\n",
       " 0.49424613631638503,\n",
       " 0.5491592193680335,\n",
       " 0.3644126969279921,\n",
       " 0.5589498417490756,\n",
       " 0.45809382807209414,\n",
       " 0.3074737936364358,\n",
       " 0.30032676205330355,\n",
       " 0.3508653186501421,\n",
       " 0.4898046011889137,\n",
       " 0.31997425812115,\n",
       " 0.3143306980308356,\n",
       " 0.2954563256880198,\n",
       " 0.5403829291544536,\n",
       " 0.5156746507729486,\n",
       " 0.4914247688100209,\n",
       " 0.5373287817266915,\n",
       " 0.5138450787994616,\n",
       " 0.3212394363524843,\n",
       " 0.38339646449807785,\n",
       " 0.5803868197020181,\n",
       " 0.5234583863916358,\n",
       " 0.3486526241512297,\n",
       " 0.4262809706275007,\n",
       " 0.5159940601142934,\n",
       " 0.5375639661292966,\n",
       " 0.37095265191328003,\n",
       " 0.38785901920562443,\n",
       " 0.34140340422378984,\n",
       " 0.5323118715939377,\n",
       " 0.4961827812601679,\n",
       " 0.517614712554278,\n",
       " 0.3759163222772704,\n",
       " 0.38866148560944547,\n",
       " 0.49881719339283387,\n",
       " 0.4591124296744299,\n",
       " 0.37578136180500415,\n",
       " 0.4329026133129378,\n",
       " 0.6177919646838541,\n",
       " 0.35031319555605145,\n",
       " 0.5392868230107006,\n",
       " 0.5432825927403334,\n",
       " 0.3317803593594708,\n",
       " 0.5081185551765933,\n",
       " 0.3305122772761272,\n",
       " 0.4176004959069817,\n",
       " 0.43574710150037843,\n",
       " 0.6334950996378516,\n",
       " 0.5992633102958336,\n",
       " 0.5955783707953696,\n",
       " 0.3444221217721364,\n",
       " 0.4503973475873137,\n",
       " 0.6018568858126113,\n",
       " 0.6178656368686948,\n",
       " 0.308609421153146,\n",
       " 0.15256744262942823,\n",
       " 0.6668433290607613,\n",
       " 0.5521012420690535,\n",
       " 0.5173792718476156,\n",
       " 0.6009834770675737,\n",
       " 0.6075752863434603,\n",
       " 0.5293272055456235,\n",
       " 0.3066904218965003,\n",
       " 0.34125197532770746,\n",
       " 0.5202760735549657,\n",
       " 0.599459763848914,\n",
       " 0.5928743678416833,\n",
       " 0.5848838161580348,\n",
       " 0.561712093087737,\n",
       " 0.33880580400409505,\n",
       " 0.29172381514771856,\n",
       " 0.42824137744270063,\n",
       " 0.4749893283006015,\n",
       " 0.3442278240784753,\n",
       " 0.4085318719736325,\n",
       " 0.5377690353603886,\n",
       " 0.48229344091886645,\n",
       " 0.4805926909505613,\n",
       " 0.6045720252921367,\n",
       " 0.37995610427652005,\n",
       " 0.3633363134779332,\n",
       " 0.3438459160201945,\n",
       " 0.4984372879115233,\n",
       " 0.5440870041027541,\n",
       " 0.5329503639163902,\n",
       " 0.3719349658248535,\n",
       " 0.5545213278438869,\n",
       " 0.5323869784833457,\n",
       " 0.30002492981472195,\n",
       " 0.42696106817779145,\n",
       " 0.29520915617080346,\n",
       " 0.34430095925234805,\n",
       " 0.5489050747372108,\n",
       " 0.6059008885807975,\n",
       " 0.4211406563486715,\n",
       " 0.5406654201805805,\n",
       " 0.33022094500510996,\n",
       " 0.33955494902671296,\n",
       " 0.45478945899504614,\n",
       " 0.599270964683106,\n",
       " 0.5974017310468696,\n",
       " 0.6088876815783546,\n",
       " 0.3839579042180159,\n",
       " 0.5811035801254583,\n",
       " 0.5347811620223217,\n",
       " 0.6203842095791974,\n",
       " 0.5683886035173258,\n",
       " 0.35817062890764106,\n",
       " 0.5601840042645297,\n",
       " 0.31475293750482736,\n",
       " 0.5582004948706701,\n",
       " 0.5693917215963373,\n",
       " 0.5707093734355366,\n",
       " 0.36365223854574913,\n",
       " 0.627256109590608,\n",
       " 0.5675065369054703,\n",
       " 0.2925462981520726,\n",
       " 0.33263110417935676,\n",
       " 0.35751710676726595,\n",
       " 0.5131835116332568,\n",
       " 0.5311721394500506,\n",
       " 0.5360563928768167,\n",
       " 0.32152416495949304,\n",
       " 0.38986071438889863,\n",
       " 0.5338093790560374,\n",
       " 0.2845619323519869,\n",
       " 0.3461590657230331,\n",
       " 0.4811818331735278,\n",
       " 0.3039559370094696,\n",
       " 0.5666623855437972,\n",
       " 0.5931970625799761,\n",
       " 0.4682054562693842,\n",
       " 0.49434712488052573,\n",
       " 0.5534868731302407,\n",
       " 0.47537186335751513,\n",
       " 0.5687871143848503,\n",
       " 0.407244802685119,\n",
       " 0.4928473150041419,\n",
       " 0.3546257549513177,\n",
       " 0.5353785614133271,\n",
       " 0.5423575637096512,\n",
       " 0.479571918521902,\n",
       " 0.6031940708925394,\n",
       " 0.6255527220279502,\n",
       " 0.5170330081067527,\n",
       " 0.1558446060010659,\n",
       " 0.5758921243015745,\n",
       " 0.5302149414651696,\n",
       " 0.5945619831209391,\n",
       " 0.2994554188858944,\n",
       " 0.4001197708501634,\n",
       " 0.4699495937859507,\n",
       " 0.35029716018495166,\n",
       " 0.3139773198264693,\n",
       " 0.5110401880545289,\n",
       " 0.36689253502431923,\n",
       " 0.5321959324876034,\n",
       " 0.3653141787214832,\n",
       " 0.6113509721169117,\n",
       " 0.5224470952622136,\n",
       " 0.4318430858720687,\n",
       " 0.5619647425648843,\n",
       " 0.32741822403304327,\n",
       " 0.3480284346992354,\n",
       " 0.5048820476112709,\n",
       " 0.6419837753167834,\n",
       " 0.44690198610749443,\n",
       " 0.37917625192360094,\n",
       " 0.5494979427992983,\n",
       " 0.3617732866003531,\n",
       " 0.5987599430381493,\n",
       " 0.5379909586812093,\n",
       " 0.31211414707485247,\n",
       " 0.5771302426080309,\n",
       " 0.5624642981531504,\n",
       " 0.3313938708448497,\n",
       " 0.5709011857211482,\n",
       " 0.4869717506055696,\n",
       " 0.48142406867338666,\n",
       " 0.4868031789054901,\n",
       " 0.4879376939174961,\n",
       " 0.5219468118628202,\n",
       " 0.5822013482577983,\n",
       " 0.568948500417393,\n",
       " 0.5924290657100907,\n",
       " 0.5222391464597991,\n",
       " 0.35188046471126727,\n",
       " 0.5204672372066992,\n",
       " 0.28953240275480185,\n",
       " 0.5034835998277639,\n",
       " 0.5715776746139614,\n",
       " 0.6836083033590457,\n",
       " 0.6515809114574087,\n",
       " 0.31392617041384097,\n",
       " 0.5029855554050294,\n",
       " 0.5393927782136689,\n",
       " 0.6107704614779574,\n",
       " 0.5562168255814529,\n",
       " 0.3482551725504752,\n",
       " 0.334777261390933,\n",
       " 0.4863609215248241,\n",
       " 0.41623573082973825,\n",
       " 0.5722698959042174,\n",
       " 0.5791824840685456,\n",
       " 0.5247235606800588,\n",
       " ...]"
      ]
     },
     "execution_count": 38,
     "metadata": {},
     "output_type": "execute_result"
    }
   ],
   "source": [
    "y_test_pred"
   ]
  },
  {
   "cell_type": "code",
   "execution_count": 23,
   "metadata": {},
   "outputs": [
    {
     "data": {
      "text/plain": [
       "Text(0.5, 1.0, 'Test')"
      ]
     },
     "execution_count": 23,
     "metadata": {},
     "output_type": "execute_result"
    },
    {
     "data": {
      "image/png": "[encoded data removed]",
      "text/plain": [
       "<Figure size 864x360 with 2 Axes>"
      ]
     },
     "metadata": {
      "needs_background": "light"
     },
     "output_type": "display_data"
    }
   ],
   "source": [
    "fig, axes = plt.subplots(nrows=1, ncols=2, figsize=(12,5))\n",
    "plt.subplots_adjust(wspace=0.40)\n",
    "axes[0].hist(y_train_pred_1, bins=20, range=[0.0,1.0], color=Ycol, histtype=\"step\", label=\"delay\", density=True)\n",
    "axes[0].hist(y_train_pred_0, bins=20, range=[0.0,1.0], color=Ncol, histtype=\"step\", label=\"no delay\", density=True)\n",
    "axes[0].legend(prop={'size': 13})\n",
    "axes[0].set_title(\"Training\", fontsize=15)\n",
    "axes[1].hist(y_test_pred_1, bins=20, range=[0.0,1.0], color=Ycol, histtype=\"step\", label=\"delay\", density=True)\n",
    "axes[1].hist(y_test_pred_0, bins=20, range=[0.0,1.0], color=Ncol, histtype=\"step\", label=\"no delay\", density=True)\n",
    "axes[1].legend(prop={'size': 13})\n",
    "axes[1].set_title(\"Test\", fontsize=15)"
   ]
  },
  {
   "cell_type": "code",
   "execution_count": 24,
   "metadata": {},
   "outputs": [],
   "source": [
    "Y = df['dep_delayed_15min']"
   ]
  },
  {
   "cell_type": "code",
   "execution_count": 25,
   "metadata": {},
   "outputs": [],
   "source": [
    "X = df[['DepTime','Distance', 'DayOfWeek', 'DayofMonth']]"
   ]
  },
  {
   "cell_type": "code",
   "execution_count": 26,
   "metadata": {},
   "outputs": [],
   "source": [
    "model = LinearRegression()"
   ]
  },
  {
   "cell_type": "code",
   "execution_count": 27,
   "metadata": {},
   "outputs": [],
   "source": [
    "X_train, X_test, Y_train, Y_test = train_test_split(X,Y)"
   ]
  },
  {
   "cell_type": "code",
   "execution_count": 28,
   "metadata": {},
   "outputs": [
    {
     "name": "stdout",
     "output_type": "stream",
     "text": [
      "Wall time: 1.33 s\n"
     ]
    },
    {
     "data": {
      "text/plain": [
       "LinearRegression(copy_X=True, fit_intercept=True, n_jobs=None, normalize=False)"
      ]
     },
     "execution_count": 28,
     "metadata": {},
     "output_type": "execute_result"
    }
   ],
   "source": [
    "%time model.fit(X_train,Y_train)"
   ]
  },
  {
   "cell_type": "code",
   "execution_count": 29,
   "metadata": {},
   "outputs": [
    {
     "data": {
      "text/plain": [
       "array([1.99813617e-04, 1.31075827e-06, 2.05117941e-03, 1.21846756e-03])"
      ]
     },
     "execution_count": 29,
     "metadata": {},
     "output_type": "execute_result"
    }
   ],
   "source": [
    "model.coef_"
   ]
  },
  {
   "cell_type": "code",
   "execution_count": 30,
   "metadata": {},
   "outputs": [
    {
     "name": "stdout",
     "output_type": "stream",
     "text": [
      "Средняя абсолютная ошибка: 0.2919\n",
      "Среднеквадратичная ошибка: 0.146\n"
     ]
    }
   ],
   "source": [
    "print('Средняя абсолютная ошибка:',round(metrics.mean_absolute_error(model.predict(X_test),Y_test),4))\n",
    "print('Среднеквадратичная ошибка:',round(metrics.mean_squared_error(model.predict(X_test),Y_test),4))"
   ]
  },
  {
   "cell_type": "code",
   "execution_count": 31,
   "metadata": {},
   "outputs": [],
   "source": [
    "# metrics.mean_squared_log_error(model.predict(X_test),Y_test)"
   ]
  },
  {
   "cell_type": "code",
   "execution_count": 32,
   "metadata": {},
   "outputs": [
    {
     "data": {
      "text/plain": [
       "-15.071552730073371"
      ]
     },
     "execution_count": 32,
     "metadata": {},
     "output_type": "execute_result"
    }
   ],
   "source": [
    "metrics.r2_score(model.predict(X_test),Y_test)"
   ]
  },
  {
   "cell_type": "code",
   "execution_count": 33,
   "metadata": {},
   "outputs": [
    {
     "data": {
      "text/plain": [
       "array([0.0756347 , 0.22723046, 0.01374928, ..., 0.10085783, 0.18726454,\n",
       "       0.17567467])"
      ]
     },
     "execution_count": 33,
     "metadata": {},
     "output_type": "execute_result"
    }
   ],
   "source": [
    "model.predict(X_test)"
   ]
  },
  {
   "cell_type": "code",
   "execution_count": 34,
   "metadata": {},
   "outputs": [
    {
     "data": {
      "text/plain": [
       "0.0604660651188762"
      ]
     },
     "execution_count": 34,
     "metadata": {},
     "output_type": "execute_result"
    }
   ],
   "source": [
    "model.score(X_test, Y_test)"
   ]
  },
  {
   "cell_type": "code",
   "execution_count": 35,
   "metadata": {},
   "outputs": [
    {
     "data": {
      "text/plain": [
       "0.060060967179277225"
      ]
     },
     "execution_count": 35,
     "metadata": {},
     "output_type": "execute_result"
    }
   ],
   "source": [
    "model.score(X_train, Y_train)"
   ]
  },
  {
   "cell_type": "code",
   "execution_count": 36,
   "metadata": {
    "scrolled": false
   },
   "outputs": [],
   "source": [
    "# plt.plot(df['DepTime'],Y)\n",
    "# plt.scatter(df['DepTime'],model.predict(X),c='red')"
   ]
  },
  {
   "cell_type": "code",
   "execution_count": 37,
   "metadata": {
    "scrolled": false
   },
   "outputs": [],
   "source": [
    "# %time fig, axes = plt.subplots(nrows=1, ncols=2, figsize=(12,5))\n",
    "# plt.subplots_adjust(wspace=0.40)\n",
    "# axes[0].hist(X, histtype=\"step\", bins=10, density=True)\n",
    "# axes[1].hist(model.predict(X), histtype=\"step\", bins=10, density=True)"
   ]
  },
  {
   "cell_type": "code",
   "execution_count": 82,
   "metadata": {
    "scrolled": false
   },
   "outputs": [],
   "source": [
    "# fig, axes = plt.subplots(nrows=1, ncols=2, figsize=(12,5))\n",
    "# plt.subplots_adjust(wspace=0.40)\n",
    "# axes[0].hist(Y_train, bins=20, range=[0.0,1.0], color=Ycol, histtype=\"step\", label=\"delay\", density=True)\n",
    "# axes[0].hist(Y_train, bins=20, range=[0.0,1.0], color=Ncol, histtype=\"step\", label=\"no delay\", density=True)\n",
    "# axes[0].set_xlabel(\"Classifier Output\", fontsize=15)\n",
    "# axes[0].legend(prop={'size': 10}, loc=\"upper right\")\n",
    "# axes[0].set_title(\"Training Set\", fontsize=15)\n",
    "# axes[1].hist(Y_test, bins=20, range=[0.0,1.0], color=Ycol, histtype=\"step\", label=\"delay\", density=True)\n",
    "# axes[1].hist(Y_test, bins=20, range=[0.0,1.0], color=Ncol, histtype=\"step\", label=\"no delay\", density=True)\n",
    "# axes[1].set_xlabel(\"Classifier Output\", fontsize=15)\n",
    "# axes[1].legend(prop={'size': 10}, loc=\"upper right\")\n",
    "# axes[1].set_title(\"Test Set\", fontsize=15)"
   ]
  },
  {
   "cell_type": "code",
   "execution_count": 125,
   "metadata": {},
   "outputs": [
    {
     "name": "stdout",
     "output_type": "stream",
     "text": [
      "Wall time: 2.16 s\n",
      "Wall time: 3 ms\n"
     ]
    }
   ],
   "source": [
    "days_in_month = np.array([31,28,31,30,31,30,31,31,30,31,30,31])\n",
    "def day_31_to_365(x):\n",
    "    days_365 = days_in_month[:x['Month']-1].sum() + x['DayofMonth']\n",
    "    return days_365\n",
    "\n",
    "%time df['DayofMonth'] = df.apply(day_31_to_365,axis = 1)\n",
    "%time df['WEEK'] = df['DayofMonth']//7"
   ]
  },
  {
   "cell_type": "code",
   "execution_count": 126,
   "metadata": {},
   "outputs": [
    {
     "data": {
      "text/plain": [
       "<matplotlib.axes._subplots.AxesSubplot at 0x22261b93b08>"
      ]
     },
     "execution_count": 126,
     "metadata": {},
     "output_type": "execute_result"
    },
    {
     "data": {
      "image/png": "[encoded data removed]",
      "text/plain": [
       "<Figure size 720x432 with 1 Axes>"
      ]
     },
     "metadata": {
      "needs_background": "light"
     },
     "output_type": "display_data"
    }
   ],
   "source": [
    "df5 = df[[x for x in df.columns if 'dep_delayed_15min' in x] + ['DayofMonth']]\n",
    "df5.groupby('DayofMonth').sum().plot()"
   ]
  },
  {
   "cell_type": "code",
   "execution_count": 127,
   "metadata": {},
   "outputs": [
    {
     "name": "stdout",
     "output_type": "stream",
     "text": [
      "Wall time: 14 s\n"
     ]
    }
   ],
   "source": [
    "def dadada(val):\n",
    "    if val <= 2400:\n",
    "        g= df['DepTime'] = np.ceil(val/600)\n",
    "        return g\n",
    "    else:\n",
    "        f = df['DepTime'] = np.round(val/600)\n",
    "        return f\n",
    "%time df['DepTime'] = df['DepTime'].apply(lambda x: round(dadada(x)),0)"
   ]
  },
  {
   "cell_type": "code",
   "execution_count": 128,
   "metadata": {},
   "outputs": [],
   "source": [
    "Delay_vs_Day_of_Week = pd.DataFrame({'delays' : df.groupby(['DayOfWeek'])['dep_delayed_15min'].mean()}).reset_index()\n",
    "Delay_vs_WEEK = pd.DataFrame({'delays' : df.groupby(['WEEK'])['dep_delayed_15min'].mean()}).reset_index()\n",
    "Delay_vs_AIRLINE = pd.DataFrame({'delays' : df.groupby(['UniqueCarrier'])['dep_delayed_15min'].mean()})\n",
    "Delay_vs_SCHEDULED_DEPARTURE = pd.DataFrame({'delays' : df.groupby(['DepTime'])['dep_delayed_15min'].mean()}).reset_index()"
   ]
  },
  {
   "cell_type": "code",
   "execution_count": 129,
   "metadata": {},
   "outputs": [
    {
     "data": {
      "text/plain": [
       "[Text(0, 0, '00:00 - 06:00'),\n",
       " Text(0, 0, '06:00 - 12:00'),\n",
       " Text(0, 0, '12:00 - 18:00'),\n",
       " Text(0, 0, '18:00 - 00:00')]"
      ]
     },
     "execution_count": 129,
     "metadata": {},
     "output_type": "execute_result"
    },
    {
     "data": {
      "image/png": "[encoded data removed]",
      "text/plain": [
       "<Figure size 1440x1080 with 4 Axes>"
      ]
     },
     "metadata": {
      "needs_background": "light"
     },
     "output_type": "display_data"
    }
   ],
   "source": [
    "fig = plt.figure(figsize=(20, 15))\n",
    "\n",
    "sub1 = fig.add_subplot(221) # instead of plt.subplot(2, 2, 1)\n",
    "sub1.set_title('Week of Year', fontsize=18, color=\"green\")\n",
    "sns.barplot(x=\"WEEK\", y=\"delays\", data=Delay_vs_WEEK, palette=\"ch:2.5,-.2,dark=.3\", ax = sub1)\n",
    "sub1.set_xticks(list(range(0,52,10)))\n",
    "sub1.set_xticklabels(list(range(0,52,10)))\n",
    "\n",
    "sub2 = fig.add_subplot(222)\n",
    "sub2.set_title('Day of Week', fontsize=18, color=\"red\")\n",
    "sns.barplot(x=\"DayOfWeek\", y=\"delays\", data=Delay_vs_Day_of_Week, palette=\"Reds_d\", ax = sub2)\n",
    "sub2.set_xticklabels(['Пн','Вт','Ср','Чт','Пт','Сб','Вс'])\n",
    "\n",
    "sub3 = fig.add_subplot(223)\n",
    "sub3.set_title('UniqueCarrier', fontsize=18, color=\"purple\")\n",
    "sns.barplot(y = list(range(len(Delay_vs_AIRLINE))), x=Delay_vs_AIRLINE['delays'], palette=\"Purples_d\", ax = sub3, orient=\"h\")\n",
    "sub3.set_yticks(range(len(Delay_vs_AIRLINE)))\n",
    "sub3.set_yticklabels(Delay_vs_AIRLINE.index)\n",
    "\n",
    "sub4 = fig.add_subplot(224)\n",
    "sns.barplot(x = list(range(len(Delay_vs_SCHEDULED_DEPARTURE))), y=Delay_vs_SCHEDULED_DEPARTURE['delays'], palette=\"GnBu_r\", ax = sub4)\n",
    "sub4.set_title('Departure Time', fontsize=18, color=\"green\")\n",
    "sub4.set_xticks([0, 1, 2, 3])\n",
    "sub4.set_xticklabels(['00:00 - 06:00','06:00 - 12:00','12:00 - 18:00','18:00 - 00:00'])"
   ]
  },
  {
   "cell_type": "code",
   "execution_count": null,
   "metadata": {},
   "outputs": [],
   "source": [
    "df2_delay   = df2[df2.dep_delayed_15min==True]\n",
    "df2_nodelay = df2[df2.dep_delayed_15min==False]"
   ]
  },
  {
   "cell_type": "code",
   "execution_count": null,
   "metadata": {},
   "outputs": [],
   "source": [
    "%time sns.pairplot(df, hue='dep_delayed_15min')"
   ]
  }
 ],
 "metadata": {
  "kernelspec": {
   "display_name": "Python 3",
   "language": "python",
   "name": "python3"
  },
  "language_info": {
   "codemirror_mode": {
    "name": "ipython",
    "version": 3
   },
   "file_extension": ".py",
   "mimetype": "text/x-python",
   "name": "python",
   "nbconvert_exporter": "python",
   "pygments_lexer": "ipython3",
   "version": "3.7.4"
  }
 },
 "nbformat": 4,
 "nbformat_minor": 2
}
